{
 "cells": [
  {
   "cell_type": "markdown",
   "metadata": {},
   "source": [
    "## Goal: 각 LGBM 모델별로 Early stopping의 효과 확인"
   ]
  },
  {
   "cell_type": "markdown",
   "metadata": {},
   "source": [
    "---"
   ]
  },
  {
   "cell_type": "code",
   "execution_count": 4,
   "metadata": {},
   "outputs": [],
   "source": [
    "import numpy as np\n",
    "import pandas as pd\n",
    "import matplotlib.pyplot as plt\n",
    "import os\n",
    "import seaborn as sns\n",
    "import math\n",
    "from lightgbm import LGBMRegressor, plot_importance\n",
    "from xgboost import XGBRegressor\n",
    "from sklearn.linear_model import LinearRegression\n",
    "from sklearn.model_selection import train_test_split, KFold, StratifiedKFold, cross_val_score\n",
    "from sklearn.metrics import mean_squared_error # squared=True 기본\n",
    "from sklearn.preprocessing import StandardScaler, MinMaxScaler, RobustScaler\n",
    "from sklearn.ensemble import RandomForestRegressor\n",
    "from sklearn.tree import DecisionTreeRegressor\n",
    "import joblib\n",
    "from tqdm import tqdm\n",
    "import shutil"
   ]
  },
  {
   "cell_type": "code",
   "execution_count": 3,
   "metadata": {},
   "outputs": [
    {
     "name": "stdout",
     "output_type": "stream",
     "text": [
      "Collecting tqdm\n",
      "  Downloading tqdm-4.56.0-py2.py3-none-any.whl (72 kB)\n",
      "Installing collected packages: tqdm\n",
      "Successfully installed tqdm-4.56.0\n"
     ]
    }
   ],
   "source": [
    "!pip install --trusted-host pypi.org --trusted-host files.pythonhosted.org tqdm"
   ]
  },
  {
   "cell_type": "markdown",
   "metadata": {},
   "source": [
    "---"
   ]
  },
  {
   "cell_type": "markdown",
   "metadata": {},
   "source": [
    "### train data 만들기"
   ]
  },
  {
   "cell_type": "code",
   "execution_count": 192,
   "metadata": {},
   "outputs": [
    {
     "name": "stdout",
     "output_type": "stream",
     "text": [
      "(52560, 20)\n"
     ]
    },
    {
     "data": {
      "text/html": [
       "<div>\n",
       "<style scoped>\n",
       "    .dataframe tbody tr th:only-of-type {\n",
       "        vertical-align: middle;\n",
       "    }\n",
       "\n",
       "    .dataframe tbody tr th {\n",
       "        vertical-align: top;\n",
       "    }\n",
       "\n",
       "    .dataframe thead th {\n",
       "        text-align: right;\n",
       "    }\n",
       "</style>\n",
       "<table border=\"1\" class=\"dataframe\">\n",
       "  <thead>\n",
       "    <tr style=\"text-align: right;\">\n",
       "      <th></th>\n",
       "      <th>Day</th>\n",
       "      <th>Hour</th>\n",
       "      <th>Minute</th>\n",
       "      <th>DHI</th>\n",
       "      <th>DNI</th>\n",
       "      <th>WS</th>\n",
       "      <th>RH</th>\n",
       "      <th>T</th>\n",
       "      <th>TARGET</th>\n",
       "      <th>GHI</th>\n",
       "      <th>dew</th>\n",
       "      <th>sunny</th>\n",
       "      <th>sunrise</th>\n",
       "      <th>sunset</th>\n",
       "      <th>date</th>\n",
       "      <th>cloudy</th>\n",
       "      <th>temp_diff</th>\n",
       "      <th>delta</th>\n",
       "      <th>zenith</th>\n",
       "      <th>azi</th>\n",
       "    </tr>\n",
       "  </thead>\n",
       "  <tbody>\n",
       "    <tr>\n",
       "      <th>0</th>\n",
       "      <td>0</td>\n",
       "      <td>0</td>\n",
       "      <td>0</td>\n",
       "      <td>0</td>\n",
       "      <td>0</td>\n",
       "      <td>1.5</td>\n",
       "      <td>69.08</td>\n",
       "      <td>-12</td>\n",
       "      <td>0.0</td>\n",
       "      <td>0</td>\n",
       "      <td>-4.035806</td>\n",
       "      <td>8.5</td>\n",
       "      <td>8.0</td>\n",
       "      <td>16.5</td>\n",
       "      <td>0</td>\n",
       "      <td>0.0</td>\n",
       "      <td>9</td>\n",
       "      <td>-23.169132</td>\n",
       "      <td>167.169132</td>\n",
       "      <td>0.0</td>\n",
       "    </tr>\n",
       "    <tr>\n",
       "      <th>1</th>\n",
       "      <td>0</td>\n",
       "      <td>0</td>\n",
       "      <td>30</td>\n",
       "      <td>0</td>\n",
       "      <td>0</td>\n",
       "      <td>1.5</td>\n",
       "      <td>69.06</td>\n",
       "      <td>-12</td>\n",
       "      <td>0.0</td>\n",
       "      <td>0</td>\n",
       "      <td>-4.039670</td>\n",
       "      <td>8.5</td>\n",
       "      <td>8.0</td>\n",
       "      <td>16.5</td>\n",
       "      <td>0</td>\n",
       "      <td>0.0</td>\n",
       "      <td>9</td>\n",
       "      <td>-23.169132</td>\n",
       "      <td>167.169132</td>\n",
       "      <td>0.0</td>\n",
       "    </tr>\n",
       "  </tbody>\n",
       "</table>\n",
       "</div>"
      ],
      "text/plain": [
       "   Day  Hour  Minute  DHI  DNI   WS     RH   T  TARGET  GHI       dew  sunny  \\\n",
       "0    0     0       0    0    0  1.5  69.08 -12     0.0    0 -4.035806    8.5   \n",
       "1    0     0      30    0    0  1.5  69.06 -12     0.0    0 -4.039670    8.5   \n",
       "\n",
       "   sunrise  sunset  date  cloudy  temp_diff      delta      zenith  azi  \n",
       "0      8.0    16.5     0     0.0          9 -23.169132  167.169132  0.0  \n",
       "1      8.0    16.5     0     0.0          9 -23.169132  167.169132  0.0  "
      ]
     },
     "execution_count": 192,
     "metadata": {},
     "output_type": "execute_result"
    }
   ],
   "source": [
    "train = pd.read_csv('train/train_new.csv')\n",
    "print(train.shape)\n",
    "train.head(2)"
   ]
  },
  {
   "cell_type": "code",
   "execution_count": 193,
   "metadata": {},
   "outputs": [
    {
     "name": "stdout",
     "output_type": "stream",
     "text": [
      "(52560, 19)\n"
     ]
    },
    {
     "data": {
      "text/html": [
       "<div>\n",
       "<style scoped>\n",
       "    .dataframe tbody tr th:only-of-type {\n",
       "        vertical-align: middle;\n",
       "    }\n",
       "\n",
       "    .dataframe tbody tr th {\n",
       "        vertical-align: top;\n",
       "    }\n",
       "\n",
       "    .dataframe thead th {\n",
       "        text-align: right;\n",
       "    }\n",
       "</style>\n",
       "<table border=\"1\" class=\"dataframe\">\n",
       "  <thead>\n",
       "    <tr style=\"text-align: right;\">\n",
       "      <th></th>\n",
       "      <th>Day</th>\n",
       "      <th>Hour</th>\n",
       "      <th>Minute</th>\n",
       "      <th>DHI</th>\n",
       "      <th>DNI</th>\n",
       "      <th>WS</th>\n",
       "      <th>RH</th>\n",
       "      <th>T</th>\n",
       "      <th>TARGET</th>\n",
       "      <th>GHI</th>\n",
       "      <th>dew</th>\n",
       "      <th>sunny</th>\n",
       "      <th>sunrise</th>\n",
       "      <th>sunset</th>\n",
       "      <th>cloudy</th>\n",
       "      <th>temp_diff</th>\n",
       "      <th>delta</th>\n",
       "      <th>zenith</th>\n",
       "      <th>azi</th>\n",
       "    </tr>\n",
       "  </thead>\n",
       "  <tbody>\n",
       "    <tr>\n",
       "      <th>0</th>\n",
       "      <td>0</td>\n",
       "      <td>0</td>\n",
       "      <td>0</td>\n",
       "      <td>0</td>\n",
       "      <td>0</td>\n",
       "      <td>1.5</td>\n",
       "      <td>69.08</td>\n",
       "      <td>-12</td>\n",
       "      <td>0.0</td>\n",
       "      <td>0</td>\n",
       "      <td>-4.035806</td>\n",
       "      <td>8.5</td>\n",
       "      <td>8.0</td>\n",
       "      <td>16.5</td>\n",
       "      <td>0.0</td>\n",
       "      <td>9</td>\n",
       "      <td>-23.169132</td>\n",
       "      <td>167.169132</td>\n",
       "      <td>0.0</td>\n",
       "    </tr>\n",
       "  </tbody>\n",
       "</table>\n",
       "</div>"
      ],
      "text/plain": [
       "   Day  Hour  Minute  DHI  DNI   WS     RH   T  TARGET  GHI       dew  sunny  \\\n",
       "0    0     0       0    0    0  1.5  69.08 -12     0.0    0 -4.035806    8.5   \n",
       "\n",
       "   sunrise  sunset  cloudy  temp_diff      delta      zenith  azi  \n",
       "0      8.0    16.5     0.0          9 -23.169132  167.169132  0.0  "
      ]
     },
     "execution_count": 193,
     "metadata": {},
     "output_type": "execute_result"
    }
   ],
   "source": [
    "# date를 뺀 train dataset: date는 단순히 delta, zenith, azi feature를 생성하기 위한 것이였음\n",
    "no_date = train.drop(['date'],axis=1)\n",
    "print(no_date.shape)\n",
    "no_date.head(1)"
   ]
  },
  {
   "cell_type": "code",
   "execution_count": 194,
   "metadata": {},
   "outputs": [
    {
     "data": {
      "text/html": [
       "<div>\n",
       "<style scoped>\n",
       "    .dataframe tbody tr th:only-of-type {\n",
       "        vertical-align: middle;\n",
       "    }\n",
       "\n",
       "    .dataframe tbody tr th {\n",
       "        vertical-align: top;\n",
       "    }\n",
       "\n",
       "    .dataframe thead th {\n",
       "        text-align: right;\n",
       "    }\n",
       "</style>\n",
       "<table border=\"1\" class=\"dataframe\">\n",
       "  <thead>\n",
       "    <tr style=\"text-align: right;\">\n",
       "      <th></th>\n",
       "      <th>Day</th>\n",
       "      <th>Hour</th>\n",
       "      <th>Minute</th>\n",
       "      <th>DHI</th>\n",
       "      <th>DNI</th>\n",
       "      <th>WS</th>\n",
       "      <th>RH</th>\n",
       "      <th>T</th>\n",
       "      <th>TARGET</th>\n",
       "      <th>GHI</th>\n",
       "      <th>dew</th>\n",
       "      <th>sunny</th>\n",
       "      <th>sunrise</th>\n",
       "      <th>sunset</th>\n",
       "      <th>cloudy</th>\n",
       "      <th>temp_diff</th>\n",
       "      <th>delta</th>\n",
       "      <th>zenith</th>\n",
       "      <th>azi</th>\n",
       "    </tr>\n",
       "  </thead>\n",
       "  <tbody>\n",
       "    <tr>\n",
       "      <th>52559</th>\n",
       "      <td>1094</td>\n",
       "      <td>23</td>\n",
       "      <td>30</td>\n",
       "      <td>0</td>\n",
       "      <td>0</td>\n",
       "      <td>2.1</td>\n",
       "      <td>67.7</td>\n",
       "      <td>-4</td>\n",
       "      <td>0.0</td>\n",
       "      <td>0</td>\n",
       "      <td>-4.304766</td>\n",
       "      <td>8.5</td>\n",
       "      <td>8.0</td>\n",
       "      <td>16.5</td>\n",
       "      <td>0.0</td>\n",
       "      <td>6</td>\n",
       "      <td>-23.227986</td>\n",
       "      <td>161.791433</td>\n",
       "      <td>310.43504</td>\n",
       "    </tr>\n",
       "  </tbody>\n",
       "</table>\n",
       "</div>"
      ],
      "text/plain": [
       "        Day  Hour  Minute  DHI  DNI   WS    RH  T  TARGET  GHI       dew  \\\n",
       "52559  1094    23      30    0    0  2.1  67.7 -4     0.0    0 -4.304766   \n",
       "\n",
       "       sunny  sunrise  sunset  cloudy  temp_diff      delta      zenith  \\\n",
       "52559    8.5      8.0    16.5     0.0          6 -23.227986  161.791433   \n",
       "\n",
       "             azi  \n",
       "52559  310.43504  "
      ]
     },
     "execution_count": 194,
     "metadata": {},
     "output_type": "execute_result"
    }
   ],
   "source": [
    "no_date.tail(1)"
   ]
  },
  {
   "cell_type": "code",
   "execution_count": 195,
   "metadata": {},
   "outputs": [
    {
     "name": "stderr",
     "output_type": "stream",
     "text": [
      "100%|██████████████████████████████████████████████████████████████████████████████| 1087/1087 [01:32<00:00, 11.71it/s]\n"
     ]
    },
    {
     "data": {
      "text/html": [
       "<div>\n",
       "<style scoped>\n",
       "    .dataframe tbody tr th:only-of-type {\n",
       "        vertical-align: middle;\n",
       "    }\n",
       "\n",
       "    .dataframe tbody tr th {\n",
       "        vertical-align: top;\n",
       "    }\n",
       "\n",
       "    .dataframe thead th {\n",
       "        text-align: right;\n",
       "    }\n",
       "</style>\n",
       "<table border=\"1\" class=\"dataframe\">\n",
       "  <thead>\n",
       "    <tr style=\"text-align: right;\">\n",
       "      <th></th>\n",
       "      <th>Hour</th>\n",
       "      <th>Minute</th>\n",
       "      <th>DHI_0</th>\n",
       "      <th>DNI_0</th>\n",
       "      <th>WS_0</th>\n",
       "      <th>RH_0</th>\n",
       "      <th>T_0</th>\n",
       "      <th>TARGET_0</th>\n",
       "      <th>GHI_0</th>\n",
       "      <th>dew_0</th>\n",
       "      <th>...</th>\n",
       "      <th>sunny_6</th>\n",
       "      <th>sunrise_6</th>\n",
       "      <th>sunset_6</th>\n",
       "      <th>cloudy_6</th>\n",
       "      <th>temp_diff_6</th>\n",
       "      <th>delta_6</th>\n",
       "      <th>zenith_6</th>\n",
       "      <th>azi_6</th>\n",
       "      <th>target1</th>\n",
       "      <th>target2</th>\n",
       "    </tr>\n",
       "  </thead>\n",
       "  <tbody>\n",
       "    <tr>\n",
       "      <th>0</th>\n",
       "      <td>0</td>\n",
       "      <td>0</td>\n",
       "      <td>0</td>\n",
       "      <td>0</td>\n",
       "      <td>1.5</td>\n",
       "      <td>69.08</td>\n",
       "      <td>-12</td>\n",
       "      <td>0.0</td>\n",
       "      <td>0</td>\n",
       "      <td>-4.035806</td>\n",
       "      <td>...</td>\n",
       "      <td>8.5</td>\n",
       "      <td>8.0</td>\n",
       "      <td>16.5</td>\n",
       "      <td>0.0</td>\n",
       "      <td>9</td>\n",
       "      <td>-22.672581</td>\n",
       "      <td>166.672581</td>\n",
       "      <td>0.0</td>\n",
       "      <td>0.0</td>\n",
       "      <td>0.0</td>\n",
       "    </tr>\n",
       "    <tr>\n",
       "      <th>1</th>\n",
       "      <td>0</td>\n",
       "      <td>30</td>\n",
       "      <td>0</td>\n",
       "      <td>0</td>\n",
       "      <td>1.5</td>\n",
       "      <td>69.06</td>\n",
       "      <td>-12</td>\n",
       "      <td>0.0</td>\n",
       "      <td>0</td>\n",
       "      <td>-4.039670</td>\n",
       "      <td>...</td>\n",
       "      <td>8.5</td>\n",
       "      <td>8.0</td>\n",
       "      <td>16.5</td>\n",
       "      <td>0.0</td>\n",
       "      <td>9</td>\n",
       "      <td>-22.672581</td>\n",
       "      <td>166.672581</td>\n",
       "      <td>0.0</td>\n",
       "      <td>0.0</td>\n",
       "      <td>0.0</td>\n",
       "    </tr>\n",
       "  </tbody>\n",
       "</table>\n",
       "<p>2 rows × 116 columns</p>\n",
       "</div>"
      ],
      "text/plain": [
       "   Hour  Minute  DHI_0  DNI_0  WS_0   RH_0  T_0  TARGET_0  GHI_0     dew_0  \\\n",
       "0     0       0      0      0   1.5  69.08  -12       0.0      0 -4.035806   \n",
       "1     0      30      0      0   1.5  69.06  -12       0.0      0 -4.039670   \n",
       "\n",
       "   ...  sunny_6  sunrise_6  sunset_6  cloudy_6  temp_diff_6    delta_6  \\\n",
       "0  ...      8.5        8.0      16.5       0.0            9 -22.672581   \n",
       "1  ...      8.5        8.0      16.5       0.0            9 -22.672581   \n",
       "\n",
       "     zenith_6  azi_6  target1  target2  \n",
       "0  166.672581    0.0      0.0      0.0  \n",
       "1  166.672581    0.0      0.0      0.0  \n",
       "\n",
       "[2 rows x 116 columns]"
      ]
     },
     "execution_count": 195,
     "metadata": {},
     "output_type": "execute_result"
    }
   ],
   "source": [
    "# for col in list(no_date.columns)[3:]:\n",
    "    \n",
    "train_df = pd.DataFrame()\n",
    "for i in tqdm(range(1087)):\n",
    "    days_df = pd.DataFrame() \n",
    "    # x_columns\n",
    "    for day in range(7):\n",
    "        if day == 0:\n",
    "            day_df = no_date[no_date.Day == (i+day)].drop(['Day'],axis=1).reset_index(drop=True) \n",
    "            cols = ['Hour','Minute'] + ['{}_{}'.format(col,day) for col in list(no_date.columns)[3:]]\n",
    "        else:\n",
    "            day_df = no_date[no_date.Day == (i+day)].drop(['Day','Hour','Minute'],axis=1).reset_index(drop=True) \n",
    "            cols = ['{}_{}'.format(col,day) for col in list(no_date.columns)[3:]]\n",
    "        day_df.columns = cols\n",
    "        days_df = pd.concat([days_df,day_df],axis=1)\n",
    "    # y_columns\n",
    "    target1 = no_date[no_date.Day == (i+7)][['TARGET']].rename(columns={'TARGET':'target1'}).reset_index(drop=True)\n",
    "    target2 = no_date[no_date.Day == (i+8)][['TARGET']].rename(columns={'TARGET':'target2'}).reset_index(drop=True)\n",
    "    # train_df\n",
    "    days_df = pd.concat([days_df,target1,target2],axis=1)\n",
    "    train_df = pd.concat([train_df,days_df],axis=0).reset_index(drop=True)\n",
    "train_df.head(2)"
   ]
  },
  {
   "cell_type": "code",
   "execution_count": 196,
   "metadata": {},
   "outputs": [],
   "source": [
    "train_df.to_csv('train_refined/new0.csv', index=False)"
   ]
  },
  {
   "cell_type": "code",
   "execution_count": 197,
   "metadata": {},
   "outputs": [
    {
     "data": {
      "text/plain": [
       "(52176, 116)"
      ]
     },
     "execution_count": 197,
     "metadata": {},
     "output_type": "execute_result"
    }
   ],
   "source": []
  },
  {
   "cell_type": "markdown",
   "metadata": {},
   "source": [
    "---"
   ]
  },
  {
   "cell_type": "markdown",
   "metadata": {},
   "source": [
    "### test data 만들기 (LGBM ver.)"
   ]
  },
  {
   "cell_type": "markdown",
   "metadata": {},
   "source": [
    "#### 새로운 컬럼들 추가\n",
    "- 1. GHI (= DHI + DNI)\n",
    "- 2. dewpoint (이슬점)\n",
    "- 3. sunny (해가 총 떠있는 시간)\n",
    "- 4. sunrise\n",
    "- 5. sunset\n",
    "- 6. cloudy (DHI/DNI+0.001)\n",
    "- 7. temp_diff (일교차)\n",
    "- 8. delta (적위) & zenith (Zenith Angle: 천정각)\n",
    "- 9. azi (Azimuth: 방위각)"
   ]
  },
  {
   "cell_type": "markdown",
   "metadata": {},
   "source": [
    "#### 1. GHI (= DHI + DNI)"
   ]
  },
  {
   "cell_type": "code",
   "execution_count": 8,
   "metadata": {},
   "outputs": [],
   "source": [
    "# test['GHI'] = test['DHI'] + test['DNI']\n",
    "def GHI(data):\n",
    "    return data['DHI'] + data['DNI']"
   ]
  },
  {
   "cell_type": "markdown",
   "metadata": {},
   "source": [
    "#### 2. dew (이슬점)"
   ]
  },
  {
   "cell_type": "code",
   "execution_count": 9,
   "metadata": {},
   "outputs": [],
   "source": [
    "def dewpoint(data):\n",
    "    rh = data['RH']\n",
    "    t = data['T']\n",
    "    gamma = math.log(rh/100) + (17.62*t)/(243.12*t+0.001)\n",
    "    dew = (243.12*gamma)/(17.62-gamma)\n",
    "    return dew"
   ]
  },
  {
   "cell_type": "code",
   "execution_count": 10,
   "metadata": {},
   "outputs": [],
   "source": [
    "def dew(data):\n",
    "    return [dewpoint(data.iloc[i]) for i in range(len(data.index))]"
   ]
  },
  {
   "cell_type": "markdown",
   "metadata": {},
   "source": [
    "#### 3. sunny (해가 총 떠있는 시간) & 4. sunrise (일출) & 5. sunset(일몰)"
   ]
  },
  {
   "cell_type": "code",
   "execution_count": 11,
   "metadata": {},
   "outputs": [],
   "source": [
    "# Hour & Minute 모두 비교\n",
    "def time_minute(data):\n",
    "    hour = data['Hour']\n",
    "    if data['Minute'] == 0:\n",
    "        minute = 0\n",
    "    else: # ==30\n",
    "        minute = 0.5\n",
    "    return hour + minute"
   ]
  },
  {
   "cell_type": "code",
   "execution_count": 12,
   "metadata": {},
   "outputs": [],
   "source": [
    "def suns(data,col='sunny'):\n",
    "    ghi = data.iloc[np.where(data['DHI'] + data['DNI'] > 0)[0],:].reset_index(drop=True)\n",
    "    ghi['time_float'] = [time_minute(ghi.iloc[i]) for i in range(len(ghi.index))]\n",
    "    ghi_min_hour = pd.DataFrame(ghi.groupby(['Day'])['time_float'].min()).reset_index()\n",
    "    ghi_max_hour = pd.DataFrame(ghi.groupby(['Day'])['time_float'].max()).reset_index()\n",
    "    \n",
    "    if col == 'sunny':\n",
    "        ghi_minus_hour = ghi_max_hour.copy()\n",
    "        ghi_minus_hour['sunny'] = ghi_max_hour['time_float'] - ghi_min_hour['time_float']\n",
    "        result = pd.merge(data, ghi_minus_hour[['Day','sunny']], on='Day')\n",
    "        return result['sunny']\n",
    "    elif col == 'sunrise':\n",
    "        ghi_min_hour.columns = ['Day', 'sunrise']\n",
    "        result = pd.merge(data, ghi_min_hour, on='Day')\n",
    "        return result['sunrise']\n",
    "    elif col == 'sunset':\n",
    "        ghi_max_hour.columns = ['Day', 'sunset']\n",
    "        result = pd.merge(data, ghi_max_hour, on='Day')\n",
    "        return result['sunset']\n",
    "    else:\n",
    "        raise Exception('wrong input')"
   ]
  },
  {
   "cell_type": "markdown",
   "metadata": {},
   "source": [
    "#### 6. cloudy (DHI/DNI+0.001)"
   ]
  },
  {
   "cell_type": "code",
   "execution_count": 13,
   "metadata": {},
   "outputs": [],
   "source": [
    "def cloudy(data):\n",
    "    return data['DHI']/(data['DNI']+0.001)"
   ]
  },
  {
   "cell_type": "markdown",
   "metadata": {},
   "source": [
    "#### 7. temp_diff (일교차)"
   ]
  },
  {
   "cell_type": "code",
   "execution_count": 14,
   "metadata": {},
   "outputs": [],
   "source": [
    "def temp_diff(data):\n",
    "    max_temp = pd.DataFrame(data.groupby(['Day'])['T'].max()).reset_index()\n",
    "    min_temp = pd.DataFrame(data.groupby(['Day'])['T'].min()).reset_index()\n",
    "    diff = min_temp.copy() ; diff=diff.drop(['T'],axis=1,)\n",
    "    diff['temp_diff'] = max_temp['T'] - min_temp['T']\n",
    "    result = pd.merge(data,diff,on='Day')\n",
    "    return result['temp_diff']"
   ]
  },
  {
   "cell_type": "markdown",
   "metadata": {},
   "source": [
    "#### 8. delta & zenith (delta: 적위 & Zenith Angle: 천정각)"
   ]
  },
  {
   "cell_type": "code",
   "execution_count": 15,
   "metadata": {},
   "outputs": [],
   "source": [
    "def delta(data):\n",
    "    del_model = joblib.load('model/test_delta.pkl')\n",
    "    predicted_del = del_model.predict(data.drop(['Day'],axis=1))\n",
    "    return predicted_del  "
   ]
  },
  {
   "cell_type": "code",
   "execution_count": 16,
   "metadata": {},
   "outputs": [],
   "source": [
    "def HRA(data):\n",
    "    hour = data['Hour']\n",
    "    return 15*(hour-12)\n",
    "\n",
    "def elevation(data): # -90 ~ 90\n",
    "    de = math.radians(data['delta'])\n",
    "    lat = math.radians(36) # 위도는 남한 반도의 중간인 36으로 설정\n",
    "    hra = math.radians(HRA(data))\n",
    "    return math.degrees(math.asin(math.sin(de)*math.sin(lat) + math.cos(de)*math.cos(lat)*math.cos(hra)))\n",
    "\n",
    "def zen_angle(data):\n",
    "    angle = 90 - elevation(data)\n",
    "    return angle \n",
    "\n",
    "def zenith(data):\n",
    "    return [zen_angle(data.iloc[i]) for i in range(len(data.index))]"
   ]
  },
  {
   "cell_type": "markdown",
   "metadata": {},
   "source": [
    "#### 9. azi (Azimuth: 방위각)"
   ]
  },
  {
   "cell_type": "code",
   "execution_count": 17,
   "metadata": {},
   "outputs": [],
   "source": [
    "def azimuth(data):\n",
    "    hra = math.radians(HRA(data))\n",
    "    de = math.radians(data['delta'])\n",
    "    lat = math.radians(36)\n",
    "    ele = math.radians(elevation(data))\n",
    "    \n",
    "    top = round(math.sin(de)*math.cos(lat) - math.cos(de)*math.sin(lat)*math.cos(hra),5)\n",
    "    bottom = round(math.cos(ele),5)\n",
    "    azi = math.degrees(math.acos(top/bottom))\n",
    "    if hra > 0:\n",
    "        return 360 - azi\n",
    "    else:\n",
    "        return azi"
   ]
  },
  {
   "cell_type": "code",
   "execution_count": 18,
   "metadata": {},
   "outputs": [],
   "source": [
    "def azi(data):\n",
    "    return [azimuth(data.iloc[i]) for i in range(len(data.index))]"
   ]
  },
  {
   "cell_type": "markdown",
   "metadata": {},
   "source": [
    "---"
   ]
  },
  {
   "cell_type": "code",
   "execution_count": 157,
   "metadata": {},
   "outputs": [],
   "source": [
    "def test_preprocess1(df):\n",
    "    data = df.copy()\n",
    "    data['GHI'] = GHI(data)\n",
    "    data['dew'] = dew(data)\n",
    "    data['sunny'] = suns(data,col='sunny')\n",
    "    data['sunrise'] = suns(data,col='sunrise')\n",
    "    data['sunset'] = suns(data,col='sunset')\n",
    "    data['cloudy'] = cloudy(data)\n",
    "    data['temp_diff'] = temp_diff(data)\n",
    "    data['delta'] = delta(data)\n",
    "    return data\n",
    "\n",
    "def test_preprocess2(df):\n",
    "    data = df.copy()\n",
    "    data['zenith'] = zenith(data)\n",
    "    data['azi'] = azi(data)\n",
    "    return data\n"
   ]
  },
  {
   "cell_type": "markdown",
   "metadata": {},
   "source": [
    "---"
   ]
  },
  {
   "cell_type": "markdown",
   "metadata": {},
   "source": [
    "### Train 시키기 "
   ]
  },
  {
   "cell_type": "code",
   "execution_count": 152,
   "metadata": {
    "scrolled": true
   },
   "outputs": [],
   "source": [
    "def make_id(i):\n",
    "    id_ls = []\n",
    "    for day in [7,8]:\n",
    "        for hour in range(0,24):\n",
    "            for minute in ['00','30']:\n",
    "                id_ls.append('{}.csv_Day{}_{}h{}m'.format(i,day,hour,minute))\n",
    "    return id_ls\n",
    "\n",
    "def test_predict(i,df,date):\n",
    "    result = pd.DataFrame({'id':make_id(i)})\n",
    "    model1_pred = pd.DataFrame()\n",
    "    model2_pred = pd.DataFrame()\n",
    "    \n",
    "    quantiles = [0.1, 0.2, 0.3, 0.4, 0.5, 0.6, 0.7, 0.8, 0.9]\n",
    "    for q in quantiles:\n",
    "        model1 = joblib.load('model/{}/model1/q{}'.format(date, str(q).replace('.','')))\n",
    "        model2 = joblib.load('model/{}/model2/q{}'.format(date, str(q).replace('.','')))\n",
    "        pred1 = pd.Series(model1.predict(df).round(6))\n",
    "        pred2 = pd.Series(model2.predict(df).round(6))\n",
    "        model1_pred = pd.concat([model1_pred,pred1],axis=1)\n",
    "        model2_pred = pd.concat([model2_pred,pred2],axis=1)\n",
    "    predict_df = pd.concat([model1_pred,model2_pred],axis=0).reset_index(drop=True)\n",
    "    \n",
    "    result = pd.concat([result,predict_df],axis=1)\n",
    "    result.columns = ['id','q_0.1','q_0.2','q_0.3','q_0.4','q_0.5','q_0.6','q_0.7','q_0.8','q_0.9']\n",
    "        \n",
    "    return result"
   ]
  },
  {
   "cell_type": "code",
   "execution_count": 62,
   "metadata": {},
   "outputs": [],
   "source": [
    "def train_real(date, train_x1, valid_x1, train_y1, valid_y1, train_x2, valid_x2, train_y2, valid_y2):\n",
    "    quantiles = [0.1, 0.2, 0.3, 0.4, 0.5, 0.6, 0.7, 0.8, 0.9]\n",
    "    \n",
    "    if not os.path.isdir('model/{}'.format(date)):\n",
    "        os.makedirs('model/{}/model1'.format(date), exist_ok=True)\n",
    "        os.makedirs('model/{}/model2'.format(date), exist_ok=True)\n",
    "    \n",
    "    for q in tqdm(quantiles):\n",
    "        model1, error1 = LGBM(q, train_x1, train_y1, valid_x1, valid_y1)\n",
    "        joblib.dump(model1,'model/{}/model1/q{}'.format(date,str(q).replace('.','')))\n",
    "\n",
    "        model2, error2 = LGBM(q, train_x2, train_y2, valid_x2, valid_y2)\n",
    "        joblib.dump(model2,'model/{}/model2/q{}'.format(date, str(q).replace('.','')))"
   ]
  },
  {
   "cell_type": "code",
   "execution_count": 63,
   "metadata": {},
   "outputs": [],
   "source": [
    "def train_quantiles(train_x1, valid_x1, train_y1, valid_y1, train_x2, valid_x2, train_y2, valid_y2):\n",
    "    error_dict1 = {} ; error_dict2 = {}\n",
    "    quantiles = [0.1, 0.2, 0.3, 0.4, 0.5, 0.6, 0.7, 0.8, 0.9]\n",
    "    \n",
    "    for q in tqdm(quantiles):\n",
    "        model1, error1 = LGBM(q, train_x1, train_y1, valid_x1, valid_y1)\n",
    "        error_dict1['q{}'.format(str(q).replace('.',''))] = error1\n",
    "\n",
    "        model2, error2 = LGBM(q, train_x2, train_y2, valid_x2, valid_y2)\n",
    "        error_dict2['q{}'.format(str(q).replace('.',''))] = error2\n",
    "    return error_dict1, error_dict2"
   ]
  },
  {
   "cell_type": "markdown",
   "metadata": {},
   "source": [
    "---"
   ]
  },
  {
   "cell_type": "markdown",
   "metadata": {},
   "source": [
    "**0109_2.csv 버전의 parameter setting**: 0112까지 최고 점수\n",
    "- **validation result:** 1.5159237110248014 / 1.506349717600947 | 1.4957201456318443 1.5023286354497691\n",
    "- **real result:** 1.9097930439 - **사실상 얘도 model1로만 Day7, Day8로 예측한 잘못된 결과임**\n",
    "- **제대로 된 result:** 1.8761783965 - **제대로 model을 적용한 결과**"
   ]
  },
  {
   "cell_type": "code",
   "execution_count": 22,
   "metadata": {},
   "outputs": [],
   "source": [
    "train_x1, valid_x1, train_y1, valid_y1 = train_test_split(train_df.iloc[:,:-2], train_df.iloc[:,-2], test_size=0.2, random_state=42)\n",
    "train_x2, valid_x2, train_y2, valid_y2 = train_test_split(train_df.iloc[:,:-2], train_df.iloc[:,-1], test_size=0.2, random_state=42)"
   ]
  },
  {
   "cell_type": "code",
   "execution_count": 23,
   "metadata": {
    "scrolled": true
   },
   "outputs": [],
   "source": [
    "def LGBM(q, train_x, train_y, valid_x, valid_y):\n",
    "    model = LGBMRegressor(objective='quantile', alpha=q,\n",
    "                         n_estimators=10000, bagging_fraction=0.7, learning_rate=0.027, subsample=0.7)\n",
    "    model.fit(train_x, train_y, eval_metric = ['quantile'], \n",
    "          eval_set=[(valid_x, valid_y)], early_stopping_rounds=300, verbose=False)\n",
    "    min_error = min(model.evals_result_['valid_0']['quantile'])\n",
    "    return model, min_error"
   ]
  },
  {
   "cell_type": "code",
   "execution_count": 24,
   "metadata": {},
   "outputs": [
    {
     "name": "stderr",
     "output_type": "stream",
     "text": [
      "  0%|                                                                                            | 0/9 [00:00<?, ?it/s]"
     ]
    },
    {
     "name": "stdout",
     "output_type": "stream",
     "text": [
      "[LightGBM] [Warning] bagging_fraction is set=0.7, subsample=0.7 will be ignored. Current value: bagging_fraction=0.7\n"
     ]
    },
    {
     "name": "stderr",
     "output_type": "stream",
     "text": [
      "100%|████████████████████████████████████████████████████████████████████████████████████| 9/9 [07:48<00:00, 52.02s/it]"
     ]
    },
    {
     "name": "stdout",
     "output_type": "stream",
     "text": [
      "1.5159237110248014 1.506349717600947\n"
     ]
    },
    {
     "name": "stderr",
     "output_type": "stream",
     "text": [
      "\n"
     ]
    }
   ],
   "source": [
    "model1_errors, model2_errors = train_quantiles(train_x1, valid_x1, train_y1, valid_y1, train_x2, valid_x2, train_y2, valid_y2)\n",
    "print(np.mean(list(model1_errors.values())), np.mean(list(model2_errors.values())))"
   ]
  },
  {
   "cell_type": "code",
   "execution_count": 66,
   "metadata": {},
   "outputs": [],
   "source": [
    "def LGBM(q, train_x, train_y, valid_x, valid_y):\n",
    "    model = LGBMRegressor(objective='quantile', alpha=q,\n",
    "                         n_estimators=10000, bagging_fraction=0.7, learning_rate=0.027, subsample=0.7)\n",
    "    model.fit(train_x, train_y, eval_metric = ['quantile'], \n",
    "          eval_set=[(valid_x, valid_y)], early_stopping_rounds=300, verbose=False)\n",
    "    min_error = min(model.evals_result_['valid_0']['quantile'])\n",
    "    iter_num = len(model.evals_result_['valid_0']['quantile']) - 300 # early_stopping_rounds=300\n",
    "    return model, min_error, iter_num"
   ]
  },
  {
   "cell_type": "code",
   "execution_count": 71,
   "metadata": {},
   "outputs": [
    {
     "name": "stderr",
     "output_type": "stream",
     "text": [
      "100%|███████████████████████████████████████████████████████████████████████████████████| 5/5 [36:09<00:00, 433.93s/it]\n"
     ]
    }
   ],
   "source": [
    "cv = KFold(n_splits=5, shuffle=True, random_state=42)\n",
    "\n",
    "error_dict1 = {} ; error_dict2 = {} ; num_dict1 = {} ; num_dict2 = {}\n",
    "for i, (train_index, valid_index) in tqdm(enumerate(cv.split(train_df)), total=5):\n",
    "    train_x, valid_x = train_df.iloc[train_index,:-2],train_df.iloc[valid_index,:-2]\n",
    "    train_y1, valid_y1 = train_df.iloc[train_index,-2], train_df.iloc[valid_index,-2] # model1\n",
    "    train_y2, valid_y2 = train_df.iloc[train_index,-1], train_df.iloc[valid_index,-1] # model2\n",
    "    \n",
    "    quantiles = [0.1, 0.2, 0.3, 0.4, 0.5, 0.6, 0.7, 0.8, 0.9]\n",
    "    for q in quantiles:\n",
    "        model1, error1, num1 = LGBM(q, train_x, train_y1, valid_x, valid_y1)\n",
    "        model2, error2, num2 = LGBM(q, train_x, train_y2, valid_x, valid_y2)\n",
    "\n",
    "        if i == 0:\n",
    "            error_dict1['q{}'.format(str(q).replace('.',''))] = [error1]\n",
    "            error_dict2['q{}'.format(str(q).replace('.',''))] = [error2]\n",
    "            num_dict1['q{}'.format(str(q).replace('.',''))] = [num1]\n",
    "            num_dict2['q{}'.format(str(q).replace('.',''))] = [num2]\n",
    "        else:\n",
    "            error_dict1['q{}'.format(str(q).replace('.',''))].append(error1)\n",
    "            error_dict2['q{}'.format(str(q).replace('.',''))].append(error2)    \n",
    "            num_dict1['q{}'.format(str(q).replace('.',''))].append(num1)\n",
    "            num_dict2['q{}'.format(str(q).replace('.',''))].append(num2)"
   ]
  },
  {
   "cell_type": "code",
   "execution_count": 73,
   "metadata": {},
   "outputs": [
    {
     "name": "stdout",
     "output_type": "stream",
     "text": [
      "1.4957201456318443 1.5023286354497691 8289.022222222222 8488.577777777778\n"
     ]
    }
   ],
   "source": [
    "print(np.mean(list(error_dict1.values())), np.mean(list(error_dict2.values())), np.mean(list(num_dict1.values())), np.mean(list(num_dict2.values())))"
   ]
  },
  {
   "cell_type": "code",
   "execution_count": 81,
   "metadata": {
    "collapsed": true,
    "jupyter": {
     "outputs_hidden": true
    }
   },
   "outputs": [
    {
     "data": {
      "text/plain": [
       "({'q01': [3026, 6498, 3296, 7499, 5814],\n",
       "  'q02': [6514, 8410, 8477, 9700, 9700],\n",
       "  'q03': [9700, 9700, 9700, 9700, 9700],\n",
       "  'q04': [9700, 9700, 9700, 9700, 9700],\n",
       "  'q05': [9700, 9700, 9700, 9700, 9700],\n",
       "  'q06': [9700, 9700, 9700, 9700, 9700],\n",
       "  'q07': [8605, 9700, 9700, 9700, 9700],\n",
       "  'q08': [9700, 9700, 7602, 4660, 9700],\n",
       "  'q09': [4960, 4965, 4516, 3886, 2978]},\n",
       " {'q01': [5816, 9700, 9449, 7251, 3018],\n",
       "  'q02': [8222, 9700, 7748, 7508, 8618],\n",
       "  'q03': [9700, 9698, 9700, 9700, 9700],\n",
       "  'q04': [9700, 9700, 9700, 9700, 9700],\n",
       "  'q05': [9700, 9700, 9700, 9700, 9700],\n",
       "  'q06': [9700, 8291, 9700, 9700, 9700],\n",
       "  'q07': [9700, 9700, 9700, 9700, 9700],\n",
       "  'q08': [9700, 4620, 9700, 5541, 9700],\n",
       "  'q09': [5235, 3798, 4659, 6969, 3945]})"
      ]
     },
     "execution_count": 81,
     "metadata": {},
     "output_type": "execute_result"
    }
   ],
   "source": [
    "num_dict1, num_dict2"
   ]
  },
  {
   "cell_type": "markdown",
   "metadata": {},
   "source": [
    "---"
   ]
  },
  {
   "cell_type": "markdown",
   "metadata": {},
   "source": [
    "**parameter tuning ver(4)** : max_depth: 21 - Cross validation에서는 결과가 좋았으나 실제 값은 좋지 않았던 parameter setting\n",
    "- **validation result:** 1.481943053800047 / 1.4627980519984785 | 1.4608987400320006 / 1.4533393522667164\n",
    "- **real result:** 1.9627326801\n",
    "- 아마도 너무 20%의 validation data에 과적합이 되어버린 듯 → **실제 test 데이터와 20%의 validation 데이터의 분포가 달랐던 듯**\n",
    "    - 아마 이럴 경우 random_state에 따라 값이 확확 바뀔 수 있음. 이러면 나머지 test data에 대해서는 제대로 예측하지 못 할 것\n",
    "- 아니면 scaling이 test 부분에서 잘못 적용이 되었나?\n",
    "    - train/test 데이터를 분석해본 결과 **데이터의 range가 다른 경우**가 많음 → **train의 scaling이 test에 맞지 않음**\n",
    "    - scaling을 하지 않는 방향으로 모델링 진행하자"
   ]
  },
  {
   "cell_type": "code",
   "execution_count": 25,
   "metadata": {},
   "outputs": [],
   "source": [
    "train_x1, valid_x1, train_y1, valid_y1 = train_test_split(train_df.iloc[:,:-2], train_df.iloc[:,-2], test_size=0.2, random_state=42)\n",
    "train_x2, valid_x2, train_y2, valid_y2 = train_test_split(train_df.iloc[:,:-2], train_df.iloc[:,-1], test_size=0.2, random_state=42)\n",
    "# scaler 적용\n",
    "scaler = StandardScaler()\n",
    "scaler.fit(train_x1) # train_x1 == train_x2\n",
    "scaled_train_x = scaler.transform(train_x1)\n",
    "scaled_valid_x1 = scaler.transform(valid_x1)\n",
    "scaled_valid_x2 = scaler.transform(valid_x2) "
   ]
  },
  {
   "cell_type": "code",
   "execution_count": 26,
   "metadata": {},
   "outputs": [],
   "source": [
    "def LGBM(q, train_x, train_y, valid_x, valid_y):\n",
    "    model = LGBMRegressor(objective='quantile', alpha=q,\n",
    "                         n_estimators=10000, bagging_fraction=0.9, learning_rate=0.027, \n",
    "                         max_depth=21, colsample_bytree=0.9,\n",
    "                         num_leaves= 170, min_data_in_leaf = 70)\n",
    "    model.fit(train_x, train_y, eval_metric = ['quantile'], eval_set=[(valid_x, valid_y)], verbose=False)\n",
    "    min_error = min(model.evals_result_['valid_0']['quantile'])\n",
    "    return model, min_error"
   ]
  },
  {
   "cell_type": "code",
   "execution_count": 28,
   "metadata": {},
   "outputs": [
    {
     "name": "stderr",
     "output_type": "stream",
     "text": [
      "100%|███████████████████████████████████████████████████████████████████████████████████| 9/9 [23:19<00:00, 155.46s/it]"
     ]
    },
    {
     "name": "stdout",
     "output_type": "stream",
     "text": [
      "1.481943053800047 1.4627980519984785\n"
     ]
    },
    {
     "name": "stderr",
     "output_type": "stream",
     "text": [
      "\n"
     ]
    }
   ],
   "source": [
    "model1_errors, model2_errors = train_quantiles(scaled_train_x, scaled_valid_x1, train_y1, valid_y1, scaled_train_x, scaled_valid_x2, train_y2, valid_y2)\n",
    "print(np.mean(list(model1_errors.values())), np.mean(list(model2_errors.values())))"
   ]
  },
  {
   "cell_type": "code",
   "execution_count": 82,
   "metadata": {},
   "outputs": [],
   "source": [
    "def LGBM(q, train_x, train_y, valid_x, valid_y):\n",
    "    model = LGBMRegressor(objective='quantile', alpha=q,\n",
    "                         n_estimators=10000, bagging_fraction=0.9, learning_rate=0.027, \n",
    "                         max_depth=21, colsample_bytree=0.9,\n",
    "                         num_leaves= 170, min_data_in_leaf = 70)\n",
    "    model.fit(train_x, train_y, eval_metric = ['quantile'], eval_set=[(valid_x, valid_y)], verbose=False)\n",
    "    min_error = min(model.evals_result_['valid_0']['quantile'])\n",
    "    iter_num = len(model.evals_result_['valid_0']['quantile']) - 300 # early_stopping_rounds=300\n",
    "    return model, min_error, iter_num"
   ]
  },
  {
   "cell_type": "code",
   "execution_count": 83,
   "metadata": {},
   "outputs": [
    {
     "name": "stderr",
     "output_type": "stream",
     "text": [
      "100%|████████████████████████████████████████████████████████████████████████████████| 5/5 [2:00:27<00:00, 1445.57s/it]\n"
     ]
    }
   ],
   "source": [
    "cv = KFold(n_splits=5, shuffle=True, random_state=42)\n",
    "\n",
    "error_dict1 = {} ; error_dict2 = {} ; num_dict1 = {} ; num_dict2 = {}\n",
    "for i, (train_index, valid_index) in tqdm(enumerate(cv.split(train_df)), total=5):\n",
    "    train_x, valid_x = train_df.iloc[train_index,:-2],train_df.iloc[valid_index,:-2]\n",
    "    train_y1, valid_y1 = train_df.iloc[train_index,-2], train_df.iloc[valid_index,-2] # model1\n",
    "    train_y2, valid_y2 = train_df.iloc[train_index,-1], train_df.iloc[valid_index,-1] # model2\n",
    "    \n",
    "    scaler = StandardScaler()\n",
    "    scaler.fit(train_x) \n",
    "    scaled_train_x = scaler.transform(train_x)\n",
    "    scaled_valid_x = scaler.transform(valid_x)\n",
    "    \n",
    "    quantiles = [0.1, 0.2, 0.3, 0.4, 0.5, 0.6, 0.7, 0.8, 0.9]\n",
    "    for q in quantiles:\n",
    "        model1, error1, num1 = LGBM(q, scaled_train_x, train_y1, scaled_valid_x, valid_y1)\n",
    "        model2, error2, num2 = LGBM(q, scaled_train_x, train_y2, scaled_valid_x, valid_y2)\n",
    "\n",
    "        if i == 0:\n",
    "            error_dict1['q{}'.format(str(q).replace('.',''))] = [error1]\n",
    "            error_dict2['q{}'.format(str(q).replace('.',''))] = [error2]\n",
    "            num_dict1['q{}'.format(str(q).replace('.',''))] = [num1]\n",
    "            num_dict2['q{}'.format(str(q).replace('.',''))] = [num2]\n",
    "        else:\n",
    "            error_dict1['q{}'.format(str(q).replace('.',''))].append(error1)\n",
    "            error_dict2['q{}'.format(str(q).replace('.',''))].append(error2)    \n",
    "            num_dict1['q{}'.format(str(q).replace('.',''))].append(num1)\n",
    "            num_dict2['q{}'.format(str(q).replace('.',''))].append(num2)"
   ]
  },
  {
   "cell_type": "code",
   "execution_count": 84,
   "metadata": {},
   "outputs": [
    {
     "name": "stdout",
     "output_type": "stream",
     "text": [
      "1.4608987400320006 1.4533393522667164 9700.0 9700.0\n"
     ]
    }
   ],
   "source": [
    "print(np.mean(list(error_dict1.values())), np.mean(list(error_dict2.values())), np.mean(list(num_dict1.values())), np.mean(list(num_dict2.values())))"
   ]
  },
  {
   "cell_type": "markdown",
   "metadata": {},
   "source": [
    "---"
   ]
  },
  {
   "cell_type": "markdown",
   "metadata": {},
   "source": [
    "### 새로운 데이터로 Train (train_refined/new1.csv)"
   ]
  },
  {
   "cell_type": "markdown",
   "metadata": {},
   "source": [
    "**0109_2.csv 버전의 parameter setting**\n",
    "- **cross validation result (dew X, sunny X):** 1.5269704395358443 1.5355730494647777\n",
    "- **cross validation result (dew O, sunny X):** 1.5144389202211872 1.5215790291380176\n",
    "- **cross validation result (dew O, sunny O):** 1.5117458767635403 1.516240773841569 \n",
    "    - model1: [3527.4, 5438.6, 9176.2, 10000. , 10000. , 9566.8, 9162.6, 8743.4, 4154. ]\n",
    "    - model2: [5371.8, 7145. , 10000. , 10000. , 10000. , 10000. , 7026.8, 9011.4, 4676. ]\n",
    "- **cross validation result (dew O, sunny O + RH):** 1.513805356818006 1.5169129223516677\n",
    "    - model1: [ 4117. ,  6959.6,  9839.6, 10000. , 10000. ,  6950. ,  8801.4, 7687. ,  4825.2]\n",
    "    - model2: [ 5679.8,  6932.6,  9876.8, 10000. , 10000. ,  7839. ,  9599. , 8580.6,  5192.6]\n",
    "- **real result:** "
   ]
  },
  {
   "cell_type": "code",
   "execution_count": 221,
   "metadata": {},
   "outputs": [
    {
     "name": "stdout",
     "output_type": "stream",
     "text": [
      "(52560, 20)\n"
     ]
    },
    {
     "data": {
      "text/html": [
       "<div>\n",
       "<style scoped>\n",
       "    .dataframe tbody tr th:only-of-type {\n",
       "        vertical-align: middle;\n",
       "    }\n",
       "\n",
       "    .dataframe tbody tr th {\n",
       "        vertical-align: top;\n",
       "    }\n",
       "\n",
       "    .dataframe thead th {\n",
       "        text-align: right;\n",
       "    }\n",
       "</style>\n",
       "<table border=\"1\" class=\"dataframe\">\n",
       "  <thead>\n",
       "    <tr style=\"text-align: right;\">\n",
       "      <th></th>\n",
       "      <th>Day</th>\n",
       "      <th>Hour</th>\n",
       "      <th>Minute</th>\n",
       "      <th>DHI</th>\n",
       "      <th>DNI</th>\n",
       "      <th>WS</th>\n",
       "      <th>RH</th>\n",
       "      <th>T</th>\n",
       "      <th>TARGET</th>\n",
       "      <th>GHI</th>\n",
       "      <th>dew</th>\n",
       "      <th>sunny</th>\n",
       "      <th>sunrise</th>\n",
       "      <th>sunset</th>\n",
       "      <th>date</th>\n",
       "      <th>cloudy</th>\n",
       "      <th>temp_diff</th>\n",
       "      <th>delta</th>\n",
       "      <th>zenith</th>\n",
       "      <th>azi</th>\n",
       "    </tr>\n",
       "  </thead>\n",
       "  <tbody>\n",
       "    <tr>\n",
       "      <th>0</th>\n",
       "      <td>0</td>\n",
       "      <td>0</td>\n",
       "      <td>0</td>\n",
       "      <td>0</td>\n",
       "      <td>0</td>\n",
       "      <td>1.5</td>\n",
       "      <td>69.08</td>\n",
       "      <td>-12</td>\n",
       "      <td>0.0</td>\n",
       "      <td>0</td>\n",
       "      <td>-4.035806</td>\n",
       "      <td>8.5</td>\n",
       "      <td>8.0</td>\n",
       "      <td>16.5</td>\n",
       "      <td>0</td>\n",
       "      <td>0.0</td>\n",
       "      <td>9</td>\n",
       "      <td>-23.169132</td>\n",
       "      <td>167.169132</td>\n",
       "      <td>0.0</td>\n",
       "    </tr>\n",
       "    <tr>\n",
       "      <th>1</th>\n",
       "      <td>0</td>\n",
       "      <td>0</td>\n",
       "      <td>30</td>\n",
       "      <td>0</td>\n",
       "      <td>0</td>\n",
       "      <td>1.5</td>\n",
       "      <td>69.06</td>\n",
       "      <td>-12</td>\n",
       "      <td>0.0</td>\n",
       "      <td>0</td>\n",
       "      <td>-4.039670</td>\n",
       "      <td>8.5</td>\n",
       "      <td>8.0</td>\n",
       "      <td>16.5</td>\n",
       "      <td>0</td>\n",
       "      <td>0.0</td>\n",
       "      <td>9</td>\n",
       "      <td>-23.169132</td>\n",
       "      <td>167.169132</td>\n",
       "      <td>0.0</td>\n",
       "    </tr>\n",
       "  </tbody>\n",
       "</table>\n",
       "</div>"
      ],
      "text/plain": [
       "   Day  Hour  Minute  DHI  DNI   WS     RH   T  TARGET  GHI       dew  sunny  \\\n",
       "0    0     0       0    0    0  1.5  69.08 -12     0.0    0 -4.035806    8.5   \n",
       "1    0     0      30    0    0  1.5  69.06 -12     0.0    0 -4.039670    8.5   \n",
       "\n",
       "   sunrise  sunset  date  cloudy  temp_diff      delta      zenith  azi  \n",
       "0      8.0    16.5     0     0.0          9 -23.169132  167.169132  0.0  \n",
       "1      8.0    16.5     0     0.0          9 -23.169132  167.169132  0.0  "
      ]
     },
     "execution_count": 221,
     "metadata": {},
     "output_type": "execute_result"
    }
   ],
   "source": [
    "train = pd.read_csv('train/train_new.csv')\n",
    "print(train.shape)\n",
    "train.head(2)"
   ]
  },
  {
   "cell_type": "code",
   "execution_count": 222,
   "metadata": {},
   "outputs": [
    {
     "name": "stdout",
     "output_type": "stream",
     "text": [
      "(52560, 19)\n"
     ]
    },
    {
     "data": {
      "text/html": [
       "<div>\n",
       "<style scoped>\n",
       "    .dataframe tbody tr th:only-of-type {\n",
       "        vertical-align: middle;\n",
       "    }\n",
       "\n",
       "    .dataframe tbody tr th {\n",
       "        vertical-align: top;\n",
       "    }\n",
       "\n",
       "    .dataframe thead th {\n",
       "        text-align: right;\n",
       "    }\n",
       "</style>\n",
       "<table border=\"1\" class=\"dataframe\">\n",
       "  <thead>\n",
       "    <tr style=\"text-align: right;\">\n",
       "      <th></th>\n",
       "      <th>Day</th>\n",
       "      <th>Hour</th>\n",
       "      <th>Minute</th>\n",
       "      <th>DHI</th>\n",
       "      <th>DNI</th>\n",
       "      <th>WS</th>\n",
       "      <th>RH</th>\n",
       "      <th>T</th>\n",
       "      <th>TARGET</th>\n",
       "      <th>GHI</th>\n",
       "      <th>dew</th>\n",
       "      <th>sunny</th>\n",
       "      <th>sunrise</th>\n",
       "      <th>sunset</th>\n",
       "      <th>cloudy</th>\n",
       "      <th>temp_diff</th>\n",
       "      <th>delta</th>\n",
       "      <th>zenith</th>\n",
       "      <th>azi</th>\n",
       "    </tr>\n",
       "  </thead>\n",
       "  <tbody>\n",
       "    <tr>\n",
       "      <th>0</th>\n",
       "      <td>0</td>\n",
       "      <td>0</td>\n",
       "      <td>0</td>\n",
       "      <td>-6.907755</td>\n",
       "      <td>-6.907755</td>\n",
       "      <td>0.406132</td>\n",
       "      <td>69.08</td>\n",
       "      <td>-12</td>\n",
       "      <td>-6.907755</td>\n",
       "      <td>-6.907755</td>\n",
       "      <td>-4.035806</td>\n",
       "      <td>8.5</td>\n",
       "      <td>8.0</td>\n",
       "      <td>16.5</td>\n",
       "      <td>-6.907755</td>\n",
       "      <td>9</td>\n",
       "      <td>-23.169132</td>\n",
       "      <td>167.169132</td>\n",
       "      <td>0.0</td>\n",
       "    </tr>\n",
       "  </tbody>\n",
       "</table>\n",
       "</div>"
      ],
      "text/plain": [
       "   Day  Hour  Minute       DHI       DNI        WS     RH   T    TARGET  \\\n",
       "0    0     0       0 -6.907755 -6.907755  0.406132  69.08 -12 -6.907755   \n",
       "\n",
       "        GHI       dew  sunny  sunrise  sunset    cloudy  temp_diff      delta  \\\n",
       "0 -6.907755 -4.035806    8.5      8.0    16.5 -6.907755          9 -23.169132   \n",
       "\n",
       "       zenith  azi  \n",
       "0  167.169132  0.0  "
      ]
     },
     "execution_count": 222,
     "metadata": {},
     "output_type": "execute_result"
    }
   ],
   "source": [
    "no_date = train.drop(['date'],axis=1)\n",
    "to_log = ['DHI','DNI','WS','TARGET','GHI','cloudy']\n",
    "for col in to_log:\n",
    "    no_date[col] = np.log(no_date[col] + 0.001)\n",
    "print(no_date.shape)\n",
    "no_date.head(1)"
   ]
  },
  {
   "cell_type": "code",
   "execution_count": 223,
   "metadata": {},
   "outputs": [
    {
     "name": "stderr",
     "output_type": "stream",
     "text": [
      "100%|██████████████████████████████████████████████████████████████████████████████| 1087/1087 [01:21<00:00, 13.34it/s]\n"
     ]
    },
    {
     "data": {
      "text/html": [
       "<div>\n",
       "<style scoped>\n",
       "    .dataframe tbody tr th:only-of-type {\n",
       "        vertical-align: middle;\n",
       "    }\n",
       "\n",
       "    .dataframe tbody tr th {\n",
       "        vertical-align: top;\n",
       "    }\n",
       "\n",
       "    .dataframe thead th {\n",
       "        text-align: right;\n",
       "    }\n",
       "</style>\n",
       "<table border=\"1\" class=\"dataframe\">\n",
       "  <thead>\n",
       "    <tr style=\"text-align: right;\">\n",
       "      <th></th>\n",
       "      <th>Hour</th>\n",
       "      <th>Minute</th>\n",
       "      <th>DHI_0</th>\n",
       "      <th>DNI_0</th>\n",
       "      <th>WS_0</th>\n",
       "      <th>RH_0</th>\n",
       "      <th>T_0</th>\n",
       "      <th>TARGET_0</th>\n",
       "      <th>GHI_0</th>\n",
       "      <th>dew_0</th>\n",
       "      <th>...</th>\n",
       "      <th>sunny_6</th>\n",
       "      <th>sunrise_6</th>\n",
       "      <th>sunset_6</th>\n",
       "      <th>cloudy_6</th>\n",
       "      <th>temp_diff_6</th>\n",
       "      <th>delta_6</th>\n",
       "      <th>zenith_6</th>\n",
       "      <th>azi_6</th>\n",
       "      <th>target1</th>\n",
       "      <th>target2</th>\n",
       "    </tr>\n",
       "  </thead>\n",
       "  <tbody>\n",
       "    <tr>\n",
       "      <th>0</th>\n",
       "      <td>0</td>\n",
       "      <td>0</td>\n",
       "      <td>-6.907755</td>\n",
       "      <td>-6.907755</td>\n",
       "      <td>0.406132</td>\n",
       "      <td>69.08</td>\n",
       "      <td>-12</td>\n",
       "      <td>-6.907755</td>\n",
       "      <td>-6.907755</td>\n",
       "      <td>-4.035806</td>\n",
       "      <td>...</td>\n",
       "      <td>8.5</td>\n",
       "      <td>8.0</td>\n",
       "      <td>16.5</td>\n",
       "      <td>-6.907755</td>\n",
       "      <td>9</td>\n",
       "      <td>-22.672581</td>\n",
       "      <td>166.672581</td>\n",
       "      <td>0.0</td>\n",
       "      <td>-6.907755</td>\n",
       "      <td>-6.907755</td>\n",
       "    </tr>\n",
       "    <tr>\n",
       "      <th>1</th>\n",
       "      <td>0</td>\n",
       "      <td>30</td>\n",
       "      <td>-6.907755</td>\n",
       "      <td>-6.907755</td>\n",
       "      <td>0.406132</td>\n",
       "      <td>69.06</td>\n",
       "      <td>-12</td>\n",
       "      <td>-6.907755</td>\n",
       "      <td>-6.907755</td>\n",
       "      <td>-4.039670</td>\n",
       "      <td>...</td>\n",
       "      <td>8.5</td>\n",
       "      <td>8.0</td>\n",
       "      <td>16.5</td>\n",
       "      <td>-6.907755</td>\n",
       "      <td>9</td>\n",
       "      <td>-22.672581</td>\n",
       "      <td>166.672581</td>\n",
       "      <td>0.0</td>\n",
       "      <td>-6.907755</td>\n",
       "      <td>-6.907755</td>\n",
       "    </tr>\n",
       "  </tbody>\n",
       "</table>\n",
       "<p>2 rows × 116 columns</p>\n",
       "</div>"
      ],
      "text/plain": [
       "   Hour  Minute     DHI_0     DNI_0      WS_0   RH_0  T_0  TARGET_0     GHI_0  \\\n",
       "0     0       0 -6.907755 -6.907755  0.406132  69.08  -12 -6.907755 -6.907755   \n",
       "1     0      30 -6.907755 -6.907755  0.406132  69.06  -12 -6.907755 -6.907755   \n",
       "\n",
       "      dew_0  ...  sunny_6  sunrise_6  sunset_6  cloudy_6  temp_diff_6  \\\n",
       "0 -4.035806  ...      8.5        8.0      16.5 -6.907755            9   \n",
       "1 -4.039670  ...      8.5        8.0      16.5 -6.907755            9   \n",
       "\n",
       "     delta_6    zenith_6  azi_6   target1   target2  \n",
       "0 -22.672581  166.672581    0.0 -6.907755 -6.907755  \n",
       "1 -22.672581  166.672581    0.0 -6.907755 -6.907755  \n",
       "\n",
       "[2 rows x 116 columns]"
      ]
     },
     "execution_count": 223,
     "metadata": {},
     "output_type": "execute_result"
    }
   ],
   "source": [
    "train_df = pd.DataFrame()\n",
    "for i in tqdm(range(1087)):\n",
    "    days_df = pd.DataFrame() \n",
    "    # x_columns\n",
    "    for day in range(7):\n",
    "        if day == 0:\n",
    "            day_df = no_date[no_date.Day == (i+day)].drop(['Day'],axis=1).reset_index(drop=True) \n",
    "            cols = ['Hour','Minute'] + ['{}_{}'.format(col,day) for col in list(no_date.columns)[3:]]\n",
    "        else:\n",
    "            day_df = no_date[no_date.Day == (i+day)].drop(['Day','Hour','Minute'],axis=1).reset_index(drop=True) \n",
    "            cols = ['{}_{}'.format(col,day) for col in list(no_date.columns)[3:]]\n",
    "        day_df.columns = cols\n",
    "        days_df = pd.concat([days_df,day_df],axis=1)\n",
    "    # y_columns\n",
    "    target1 = no_date[no_date.Day == (i+7)][['TARGET']].rename(columns={'TARGET':'target1'}).reset_index(drop=True)\n",
    "    target2 = no_date[no_date.Day == (i+8)][['TARGET']].rename(columns={'TARGET':'target2'}).reset_index(drop=True)\n",
    "    # train_df\n",
    "    days_df = pd.concat([days_df,target1,target2],axis=1)\n",
    "    train_df = pd.concat([train_df,days_df],axis=0).reset_index(drop=True)\n",
    "train_df.head(2)"
   ]
  },
  {
   "cell_type": "code",
   "execution_count": 122,
   "metadata": {},
   "outputs": [],
   "source": [
    "def LGBM(q, train_x, train_y, valid_x, valid_y):\n",
    "    model = LGBMRegressor(objective='quantile', alpha=q,\n",
    "                         n_estimators=10000, bagging_fraction=0.7, learning_rate=0.027, subsample=0.7)\n",
    "    model.fit(train_x, train_y, eval_metric = ['quantile'], \n",
    "          eval_set=[(valid_x, valid_y)], early_stopping_rounds=300, verbose=False)\n",
    "    min_error = min(model.evals_result_['valid_0']['quantile'])\n",
    "    if len(model.evals_result_['valid_0']['quantile']) == 10000:\n",
    "        iter_num = 10000\n",
    "    else:\n",
    "        iter_num = len(model.evals_result_['valid_0']['quantile']) - 300\n",
    "    return model, min_error, iter_num"
   ]
  },
  {
   "cell_type": "code",
   "execution_count": 198,
   "metadata": {},
   "outputs": [
    {
     "name": "stdout",
     "output_type": "stream",
     "text": [
      "(52176, 116)\n"
     ]
    },
    {
     "data": {
      "text/html": [
       "<div>\n",
       "<style scoped>\n",
       "    .dataframe tbody tr th:only-of-type {\n",
       "        vertical-align: middle;\n",
       "    }\n",
       "\n",
       "    .dataframe tbody tr th {\n",
       "        vertical-align: top;\n",
       "    }\n",
       "\n",
       "    .dataframe thead th {\n",
       "        text-align: right;\n",
       "    }\n",
       "</style>\n",
       "<table border=\"1\" class=\"dataframe\">\n",
       "  <thead>\n",
       "    <tr style=\"text-align: right;\">\n",
       "      <th></th>\n",
       "      <th>Hour</th>\n",
       "      <th>Minute</th>\n",
       "      <th>DHI_0</th>\n",
       "      <th>DNI_0</th>\n",
       "      <th>WS_0</th>\n",
       "      <th>RH_0</th>\n",
       "      <th>T_0</th>\n",
       "      <th>TARGET_0</th>\n",
       "      <th>GHI_0</th>\n",
       "      <th>dew_0</th>\n",
       "      <th>...</th>\n",
       "      <th>sunny_6</th>\n",
       "      <th>sunrise_6</th>\n",
       "      <th>sunset_6</th>\n",
       "      <th>cloudy_6</th>\n",
       "      <th>temp_diff_6</th>\n",
       "      <th>delta_6</th>\n",
       "      <th>zenith_6</th>\n",
       "      <th>azi_6</th>\n",
       "      <th>target1</th>\n",
       "      <th>target2</th>\n",
       "    </tr>\n",
       "  </thead>\n",
       "  <tbody>\n",
       "    <tr>\n",
       "      <th>0</th>\n",
       "      <td>0</td>\n",
       "      <td>0</td>\n",
       "      <td>0</td>\n",
       "      <td>0</td>\n",
       "      <td>1.5</td>\n",
       "      <td>69.08</td>\n",
       "      <td>-12</td>\n",
       "      <td>0.0</td>\n",
       "      <td>0</td>\n",
       "      <td>-4.035806</td>\n",
       "      <td>...</td>\n",
       "      <td>8.5</td>\n",
       "      <td>8.0</td>\n",
       "      <td>16.5</td>\n",
       "      <td>0.0</td>\n",
       "      <td>9</td>\n",
       "      <td>-22.672581</td>\n",
       "      <td>166.672581</td>\n",
       "      <td>0.0</td>\n",
       "      <td>0.0</td>\n",
       "      <td>0.0</td>\n",
       "    </tr>\n",
       "  </tbody>\n",
       "</table>\n",
       "<p>1 rows × 116 columns</p>\n",
       "</div>"
      ],
      "text/plain": [
       "   Hour  Minute  DHI_0  DNI_0  WS_0   RH_0  T_0  TARGET_0  GHI_0     dew_0  \\\n",
       "0     0       0      0      0   1.5  69.08  -12       0.0      0 -4.035806   \n",
       "\n",
       "   ...  sunny_6  sunrise_6  sunset_6  cloudy_6  temp_diff_6    delta_6  \\\n",
       "0  ...      8.5        8.0      16.5       0.0            9 -22.672581   \n",
       "\n",
       "     zenith_6  azi_6  target1  target2  \n",
       "0  166.672581    0.0      0.0      0.0  \n",
       "\n",
       "[1 rows x 116 columns]"
      ]
     },
     "execution_count": 198,
     "metadata": {},
     "output_type": "execute_result"
    }
   ],
   "source": [
    "train_df = pd.read_csv('train_refined/new0.csv')\n",
    "print(train_df.shape)\n",
    "train_df.head(1)"
   ]
  },
  {
   "cell_type": "code",
   "execution_count": 124,
   "metadata": {},
   "outputs": [
    {
     "name": "stderr",
     "output_type": "stream",
     "text": [
      "100%|███████████████████████████████████████████████████████████████████████████████████| 5/5 [43:15<00:00, 519.09s/it]\n"
     ]
    }
   ],
   "source": [
    "cv = KFold(n_splits=5, shuffle=True, random_state=42)\n",
    "\n",
    "error_dict1 = {} ; error_dict2 = {} ; num_dict1 = {} ; num_dict2 = {}\n",
    "for i, (train_index, valid_index) in tqdm(enumerate(cv.split(train_df)), total=5):\n",
    "    train_x, valid_x = train_df.iloc[train_index,:-2],train_df.iloc[valid_index,:-2]\n",
    "    train_y1, valid_y1 = train_df.iloc[train_index,-2], train_df.iloc[valid_index,-2] # model1\n",
    "    train_y2, valid_y2 = train_df.iloc[train_index,-1], train_df.iloc[valid_index,-1] # model2\n",
    "    \n",
    "    quantiles = [0.1, 0.2, 0.3, 0.4, 0.5, 0.6, 0.7, 0.8, 0.9]\n",
    "    for q in quantiles:\n",
    "        model1, error1, num1 = LGBM(q, train_x, train_y1, valid_x, valid_y1)\n",
    "        model2, error2, num2 = LGBM(q, train_x, train_y2, valid_x, valid_y2)\n",
    "\n",
    "        if i == 0:\n",
    "            error_dict1['q{}'.format(str(q).replace('.',''))] = [error1]\n",
    "            error_dict2['q{}'.format(str(q).replace('.',''))] = [error2]\n",
    "            num_dict1['q{}'.format(str(q).replace('.',''))] = [num1]\n",
    "            num_dict2['q{}'.format(str(q).replace('.',''))] = [num2]\n",
    "        else:\n",
    "            error_dict1['q{}'.format(str(q).replace('.',''))].append(error1)\n",
    "            error_dict2['q{}'.format(str(q).replace('.',''))].append(error2)    \n",
    "            num_dict1['q{}'.format(str(q).replace('.',''))].append(num1)\n",
    "            num_dict2['q{}'.format(str(q).replace('.',''))].append(num2)"
   ]
  },
  {
   "cell_type": "code",
   "execution_count": 125,
   "metadata": {},
   "outputs": [
    {
     "name": "stdout",
     "output_type": "stream",
     "text": [
      "1.513805356818006 1.5169129223516677 7686.644444444444 8188.933333333333\n"
     ]
    }
   ],
   "source": [
    "print(np.mean(list(error_dict1.values())), np.mean(list(error_dict2.values())), np.mean(list(num_dict1.values())), np.mean(list(num_dict2.values())))"
   ]
  },
  {
   "cell_type": "code",
   "execution_count": 127,
   "metadata": {},
   "outputs": [
    {
     "data": {
      "text/plain": [
       "array([ 5679.8,  6932.6,  9876.8, 10000. , 10000. ,  7839. ,  9599. ,\n",
       "        8580.6,  5192.6])"
      ]
     },
     "execution_count": 127,
     "metadata": {},
     "output_type": "execute_result"
    }
   ],
   "source": [
    "np.mean(list(num_dict2.values()),axis=1)"
   ]
  },
  {
   "cell_type": "code",
   "execution_count": 117,
   "metadata": {},
   "outputs": [
    {
     "data": {
      "text/plain": [
       "[[4462, 8560, 4968, 3996, 4873],\n",
       " [6454, 6094, 9272, 5472, 8433],\n",
       " [9700, 9700, 9700, 9700, 9700],\n",
       " [9700, 9700, 9700, 9700, 9700],\n",
       " [9700, 9700, 9700, 9700, 9700],\n",
       " [9700, 9700, 9700, 9700, 9700],\n",
       " [5130, 5626, 9235, 9700, 5143],\n",
       " [8524, 7288, 9245, 9700, 9700],\n",
       " [4520, 5068, 4939, 5950, 2903]]"
      ]
     },
     "execution_count": 117,
     "metadata": {},
     "output_type": "execute_result"
    }
   ],
   "source": [
    "list(num_dict2.values())"
   ]
  },
  {
   "cell_type": "code",
   "execution_count": null,
   "metadata": {},
   "outputs": [],
   "source": []
  },
  {
   "cell_type": "markdown",
   "metadata": {},
   "source": [
    "---"
   ]
  },
  {
   "cell_type": "markdown",
   "metadata": {},
   "source": [
    "### Test 및 submission (1) : 80%의 training data만 사용하는 경우"
   ]
  },
  {
   "cell_type": "markdown",
   "metadata": {},
   "source": [
    "#### data "
   ]
  },
  {
   "cell_type": "code",
   "execution_count": 224,
   "metadata": {},
   "outputs": [
    {
     "name": "stdout",
     "output_type": "stream",
     "text": [
      "(52176, 116)\n"
     ]
    }
   ],
   "source": [
    "# train_df = pd.read_csv('train_refined/new_row_removed.csv')\n",
    "print(train_df.shape)\n",
    "train_x1, valid_x1, train_y1, valid_y1 = train_test_split(train_df.iloc[:,:-2], train_df.iloc[:,-2], test_size=0.2, random_state=42)\n",
    "train_x2, valid_x2, train_y2, valid_y2 = train_test_split(train_df.iloc[:,:-2], train_df.iloc[:,-1], test_size=0.2, random_state=42)"
   ]
  },
  {
   "cell_type": "code",
   "execution_count": 225,
   "metadata": {},
   "outputs": [
    {
     "data": {
      "text/html": [
       "<div>\n",
       "<style scoped>\n",
       "    .dataframe tbody tr th:only-of-type {\n",
       "        vertical-align: middle;\n",
       "    }\n",
       "\n",
       "    .dataframe tbody tr th {\n",
       "        vertical-align: top;\n",
       "    }\n",
       "\n",
       "    .dataframe thead th {\n",
       "        text-align: right;\n",
       "    }\n",
       "</style>\n",
       "<table border=\"1\" class=\"dataframe\">\n",
       "  <thead>\n",
       "    <tr style=\"text-align: right;\">\n",
       "      <th></th>\n",
       "      <th>Hour</th>\n",
       "      <th>Minute</th>\n",
       "      <th>DHI_0</th>\n",
       "      <th>DNI_0</th>\n",
       "      <th>WS_0</th>\n",
       "      <th>RH_0</th>\n",
       "      <th>T_0</th>\n",
       "      <th>TARGET_0</th>\n",
       "      <th>GHI_0</th>\n",
       "      <th>dew_0</th>\n",
       "      <th>...</th>\n",
       "      <th>sunny_6</th>\n",
       "      <th>sunrise_6</th>\n",
       "      <th>sunset_6</th>\n",
       "      <th>cloudy_6</th>\n",
       "      <th>temp_diff_6</th>\n",
       "      <th>delta_6</th>\n",
       "      <th>zenith_6</th>\n",
       "      <th>azi_6</th>\n",
       "      <th>target1</th>\n",
       "      <th>target2</th>\n",
       "    </tr>\n",
       "  </thead>\n",
       "  <tbody>\n",
       "    <tr>\n",
       "      <th>0</th>\n",
       "      <td>0</td>\n",
       "      <td>0</td>\n",
       "      <td>-6.907755</td>\n",
       "      <td>-6.907755</td>\n",
       "      <td>0.406132</td>\n",
       "      <td>69.08</td>\n",
       "      <td>-12</td>\n",
       "      <td>-6.907755</td>\n",
       "      <td>-6.907755</td>\n",
       "      <td>-4.035806</td>\n",
       "      <td>...</td>\n",
       "      <td>8.5</td>\n",
       "      <td>8.0</td>\n",
       "      <td>16.5</td>\n",
       "      <td>-6.907755</td>\n",
       "      <td>9</td>\n",
       "      <td>-22.672581</td>\n",
       "      <td>166.672581</td>\n",
       "      <td>0.0</td>\n",
       "      <td>-6.907755</td>\n",
       "      <td>-6.907755</td>\n",
       "    </tr>\n",
       "  </tbody>\n",
       "</table>\n",
       "<p>1 rows × 116 columns</p>\n",
       "</div>"
      ],
      "text/plain": [
       "   Hour  Minute     DHI_0     DNI_0      WS_0   RH_0  T_0  TARGET_0     GHI_0  \\\n",
       "0     0       0 -6.907755 -6.907755  0.406132  69.08  -12 -6.907755 -6.907755   \n",
       "\n",
       "      dew_0  ...  sunny_6  sunrise_6  sunset_6  cloudy_6  temp_diff_6  \\\n",
       "0 -4.035806  ...      8.5        8.0      16.5 -6.907755            9   \n",
       "\n",
       "     delta_6    zenith_6  azi_6   target1   target2  \n",
       "0 -22.672581  166.672581    0.0 -6.907755 -6.907755  \n",
       "\n",
       "[1 rows x 116 columns]"
      ]
     },
     "execution_count": 225,
     "metadata": {},
     "output_type": "execute_result"
    }
   ],
   "source": [
    "train_df.head(1)"
   ]
  },
  {
   "cell_type": "markdown",
   "metadata": {},
   "source": [
    "#### Model 및 Training"
   ]
  },
  {
   "cell_type": "code",
   "execution_count": 226,
   "metadata": {},
   "outputs": [],
   "source": [
    "def LGBM(q, train_x, train_y, valid_x, valid_y):\n",
    "    model = LGBMRegressor(objective='quantile', alpha=q,\n",
    "                         n_estimators=10000, bagging_fraction=0.7, learning_rate=0.027, subsample=0.7)\n",
    "    model.fit(train_x, train_y, eval_metric = ['quantile'], eval_set=[(valid_x, valid_y)], \n",
    "              early_stopping_rounds=300, verbose=False)\n",
    "    min_error = min(model.evals_result_['valid_0']['quantile'])\n",
    "    return model, min_error"
   ]
  },
  {
   "cell_type": "code",
   "execution_count": 227,
   "metadata": {},
   "outputs": [],
   "source": [
    "def train_real(date, train_x1, valid_x1, train_y1, valid_y1, train_x2, valid_x2, train_y2, valid_y2):\n",
    "    quantiles = [0.1, 0.2, 0.3, 0.4, 0.5, 0.6, 0.7, 0.8, 0.9]\n",
    "    \n",
    "    if not os.path.isdir('model/{}'.format(date)):\n",
    "        os.makedirs('model/{}/model1'.format(date), exist_ok=True)\n",
    "        os.makedirs('model/{}/model2'.format(date), exist_ok=True)\n",
    "    \n",
    "    for q in tqdm(quantiles):\n",
    "        model1, error1 = LGBM(q, train_x1, train_y1, valid_x1, valid_y1)\n",
    "        joblib.dump(model1,'model/{}/model1/q{}'.format(date,str(q).replace('.','')))\n",
    "\n",
    "        model2, error2 = LGBM(q, train_x2, train_y2, valid_x2, valid_y2)\n",
    "        joblib.dump(model2,'model/{}/model2/q{}'.format(date, str(q).replace('.','')))"
   ]
  },
  {
   "cell_type": "code",
   "execution_count": 228,
   "metadata": {},
   "outputs": [
    {
     "name": "stderr",
     "output_type": "stream",
     "text": [
      "  0%|                                                                                            | 0/9 [00:00<?, ?it/s]"
     ]
    },
    {
     "name": "stdout",
     "output_type": "stream",
     "text": [
      "[LightGBM] [Warning] bagging_fraction is set=0.7, subsample=0.7 will be ignored. Current value: bagging_fraction=0.7\n"
     ]
    },
    {
     "name": "stderr",
     "output_type": "stream",
     "text": [
      "100%|████████████████████████████████████████████████████████████████████████████████████| 9/9 [07:30<00:00, 50.01s/it]\n"
     ]
    }
   ],
   "source": [
    "train_real('0115_2',train_x1, valid_x1, train_y1, valid_y1, train_x2, valid_x2, train_y2, valid_y2)"
   ]
  },
  {
   "cell_type": "markdown",
   "metadata": {},
   "source": [
    "#### Test data 및 submission 생성"
   ]
  },
  {
   "cell_type": "code",
   "execution_count": 229,
   "metadata": {},
   "outputs": [],
   "source": [
    "def test_predict(i,df,date):\n",
    "    result = pd.DataFrame({'id':make_id(i)})\n",
    "    model1_pred = pd.DataFrame()\n",
    "    model2_pred = pd.DataFrame()\n",
    "    \n",
    "    quantiles = [0.1, 0.2, 0.3, 0.4, 0.5, 0.6, 0.7, 0.8, 0.9]\n",
    "    for q in quantiles:\n",
    "        model1 = joblib.load('model/{}/model1/q{}'.format(date, str(q).replace('.','')))\n",
    "        model2 = joblib.load('model/{}/model2/q{}'.format(date, str(q).replace('.','')))\n",
    "        # log씌운 TARGET인 경우\n",
    "        pred1 = pd.Series(np.round(np.exp(model1.predict(df))-0.001,6))  \n",
    "        pred2 = pd.Series(np.round(np.exp(model2.predict(df))-0.001,6))\n",
    "        # log 안 씌운 TARGET인 경우\n",
    "#         pred1 = pd.Series(model1.predict(df).round(6))\n",
    "#         pred2 = pd.Series(model2.predict(df).round(6))\n",
    "        model1_pred = pd.concat([model1_pred,pred1],axis=1)\n",
    "        model2_pred = pd.concat([model2_pred,pred2],axis=1)\n",
    "    predict_df = pd.concat([model1_pred,model2_pred],axis=0).reset_index(drop=True)\n",
    "    \n",
    "    result = pd.concat([result,predict_df],axis=1)\n",
    "    result.columns = ['id','q_0.1','q_0.2','q_0.3','q_0.4','q_0.5','q_0.6','q_0.7','q_0.8','q_0.9']\n",
    "        \n",
    "    return result"
   ]
  },
  {
   "cell_type": "code",
   "execution_count": 230,
   "metadata": {},
   "outputs": [
    {
     "name": "stderr",
     "output_type": "stream",
     "text": [
      "100%|██████████████████████████████████████████████████████████████████████████████████| 81/81 [05:04<00:00,  3.76s/it]"
     ]
    },
    {
     "name": "stdout",
     "output_type": "stream",
     "text": [
      "(7776, 10)\n"
     ]
    },
    {
     "name": "stderr",
     "output_type": "stream",
     "text": [
      "\n"
     ]
    }
   ],
   "source": [
    "dfs = []\n",
    "for i in tqdm(range(81)):\n",
    "    path = 'test/{}.csv'.format(i)\n",
    "    df = pd.read_csv(path)\n",
    "    df1 = test_preprocess1(df)\n",
    "    df2 = test_preprocess2(df1)\n",
    "    \n",
    "    test_df = pd.DataFrame()\n",
    "    for day in range(7):\n",
    "        if day == 0:\n",
    "            day_df = df2[df2.Day == day].drop(['Day'],axis=1).reset_index(drop=True) \n",
    "            cols = ['Hour','Minute'] + ['{}_{}'.format(col,day) for col in list(df2.columns)[3:]]\n",
    "        else:\n",
    "            day_df = df2[df2.Day == day].drop(['Day','Hour','Minute'],axis=1).reset_index(drop=True) \n",
    "            cols = ['{}_{}'.format(col,day) for col in list(df2.columns)[3:]]\n",
    "        day_df.columns = cols\n",
    "        test_df = pd.concat([test_df,day_df],axis=1)  \n",
    "        #\n",
    "        to_log = ['DHI','DNI','WS','TARGET','GHI','cloudy']\n",
    "        for col in to_log:\n",
    "            test_df['{}_{}'.format(col,day)] = np.log(test_df['{}_{}'.format(col,day)] + 0.001)\n",
    "#         test_df.drop(['RH_{}'.format(day),'sunrise_{}'.format(day),'sunset_{}'.format(day)], axis=1, inplace=True)\n",
    "    \n",
    "    # scaler 미적용\n",
    "    predict_result = test_predict(i,test_df,'0115_2') \n",
    "    \n",
    "    dfs.append(predict_result)\n",
    "    \n",
    "sub = pd.concat(dfs,axis=0).reset_index(drop=True)\n",
    "print(sub.shape)"
   ]
  },
  {
   "cell_type": "code",
   "execution_count": 231,
   "metadata": {},
   "outputs": [],
   "source": [
    "sub.to_csv('submission/{}.csv'.format('0115_2') , index=False)"
   ]
  },
  {
   "cell_type": "code",
   "execution_count": 219,
   "metadata": {},
   "outputs": [
    {
     "name": "stderr",
     "output_type": "stream",
     "text": [
      "100%|██████████████████████████████████████████████████████████████████████████████████| 81/81 [01:39<00:00,  1.23s/it]"
     ]
    },
    {
     "name": "stdout",
     "output_type": "stream",
     "text": [
      "(7776, 10)\n"
     ]
    },
    {
     "name": "stderr",
     "output_type": "stream",
     "text": [
      "\n"
     ]
    }
   ],
   "source": [
    "dfs = []\n",
    "for i in tqdm(range(81)):\n",
    "    path = 'test/{}.csv'.format(i)\n",
    "    df = pd.read_csv(path)\n",
    "    test_df = pd.DataFrame([df.iloc[i:(i+289),:][['TARGET']].T.values.tolist()[0] for i in range((df.shape[0]-288))]) # df.shape[0]-288\n",
    "    test_df.columns = ['{}'.format(j) for j in range(289)] \n",
    "    \n",
    "    predict_result = test_predict(i,test_df,'0115_1')\n",
    "    dfs.append(predict_result)\n",
    "sub = pd.concat(dfs,axis=0).reset_index(drop=True)\n",
    "print(sub.shape)"
   ]
  },
  {
   "cell_type": "code",
   "execution_count": 220,
   "metadata": {},
   "outputs": [],
   "source": [
    "sub.to_csv('submission/{}.csv'.format('0115_1') , index=False)"
   ]
  },
  {
   "cell_type": "markdown",
   "metadata": {},
   "source": [
    "---"
   ]
  },
  {
   "cell_type": "markdown",
   "metadata": {},
   "source": [
    "### Test 및 submission (2) : 100%의 training data를 사용하는 경우"
   ]
  },
  {
   "cell_type": "markdown",
   "metadata": {},
   "source": [
    "#### data "
   ]
  },
  {
   "cell_type": "code",
   "execution_count": 135,
   "metadata": {},
   "outputs": [
    {
     "name": "stdout",
     "output_type": "stream",
     "text": [
      "(52176, 101)\n"
     ]
    },
    {
     "data": {
      "text/html": [
       "<div>\n",
       "<style scoped>\n",
       "    .dataframe tbody tr th:only-of-type {\n",
       "        vertical-align: middle;\n",
       "    }\n",
       "\n",
       "    .dataframe tbody tr th {\n",
       "        vertical-align: top;\n",
       "    }\n",
       "\n",
       "    .dataframe thead th {\n",
       "        text-align: right;\n",
       "    }\n",
       "</style>\n",
       "<table border=\"1\" class=\"dataframe\">\n",
       "  <thead>\n",
       "    <tr style=\"text-align: right;\">\n",
       "      <th></th>\n",
       "      <th>Hour</th>\n",
       "      <th>Minute</th>\n",
       "      <th>DHI_0</th>\n",
       "      <th>DNI_0</th>\n",
       "      <th>WS_0</th>\n",
       "      <th>T_0</th>\n",
       "      <th>TARGET_0</th>\n",
       "      <th>GHI_0</th>\n",
       "      <th>dew_0</th>\n",
       "      <th>sunny_0</th>\n",
       "      <th>...</th>\n",
       "      <th>zenith_6</th>\n",
       "      <th>azi_6</th>\n",
       "      <th>TARGET_diff_0</th>\n",
       "      <th>TARGET_diff_1</th>\n",
       "      <th>TARGET_diff_2</th>\n",
       "      <th>TARGET_diff_3</th>\n",
       "      <th>TARGET_diff_4</th>\n",
       "      <th>TARGET_diff_5</th>\n",
       "      <th>target1</th>\n",
       "      <th>target2</th>\n",
       "    </tr>\n",
       "  </thead>\n",
       "  <tbody>\n",
       "    <tr>\n",
       "      <th>0</th>\n",
       "      <td>0</td>\n",
       "      <td>0</td>\n",
       "      <td>0</td>\n",
       "      <td>0</td>\n",
       "      <td>1.5</td>\n",
       "      <td>-12</td>\n",
       "      <td>0.0</td>\n",
       "      <td>0</td>\n",
       "      <td>-4.035806</td>\n",
       "      <td>8.5</td>\n",
       "      <td>...</td>\n",
       "      <td>166.672581</td>\n",
       "      <td>0.0</td>\n",
       "      <td>0.0</td>\n",
       "      <td>0.0</td>\n",
       "      <td>0.0</td>\n",
       "      <td>0.0</td>\n",
       "      <td>0.0</td>\n",
       "      <td>0.0</td>\n",
       "      <td>0.0</td>\n",
       "      <td>0.0</td>\n",
       "    </tr>\n",
       "  </tbody>\n",
       "</table>\n",
       "<p>1 rows × 101 columns</p>\n",
       "</div>"
      ],
      "text/plain": [
       "   Hour  Minute  DHI_0  DNI_0  WS_0  T_0  TARGET_0  GHI_0     dew_0  sunny_0  \\\n",
       "0     0       0      0      0   1.5  -12       0.0      0 -4.035806      8.5   \n",
       "\n",
       "   ...    zenith_6  azi_6  TARGET_diff_0  TARGET_diff_1  TARGET_diff_2  \\\n",
       "0  ...  166.672581    0.0            0.0            0.0            0.0   \n",
       "\n",
       "   TARGET_diff_3  TARGET_diff_4  TARGET_diff_5  target1  target2  \n",
       "0            0.0            0.0            0.0      0.0      0.0  \n",
       "\n",
       "[1 rows x 101 columns]"
      ]
     },
     "execution_count": 135,
     "metadata": {},
     "output_type": "execute_result"
    }
   ],
   "source": [
    "train_df = pd.read_csv('train_refined/new1.csv')\n",
    "print(train_df.shape)\n",
    "train_df.head(1)"
   ]
  },
  {
   "cell_type": "code",
   "execution_count": 136,
   "metadata": {},
   "outputs": [],
   "source": [
    "train_x, train_y1, train_y2 = train_df.iloc[:,:-2], train_df.iloc[:,-2], train_df.iloc[:,-1]"
   ]
  },
  {
   "cell_type": "markdown",
   "metadata": {},
   "source": [
    "#### Model 및 Training"
   ]
  },
  {
   "cell_type": "code",
   "execution_count": 148,
   "metadata": {},
   "outputs": [],
   "source": [
    "def LGBM(q, train_x, train_y, nums):\n",
    "    model = LGBMRegressor(objective='quantile', alpha=q,\n",
    "                         n_estimators=nums, bagging_fraction=0.7, learning_rate=0.027, subsample=0.7)\n",
    "    model.fit(train_x, train_y)\n",
    "    return model"
   ]
  },
  {
   "cell_type": "code",
   "execution_count": 149,
   "metadata": {},
   "outputs": [],
   "source": [
    "def train_alldata(date, train_x, train_y1, train_y2, iters1, iters2):\n",
    "    quantiles = [0.1, 0.2, 0.3, 0.4, 0.5, 0.6, 0.7, 0.8, 0.9]\n",
    "    \n",
    "    if not os.path.isdir('model/{}'.format(date)):\n",
    "        os.makedirs('model/{}/model1'.format(date), exist_ok=True)\n",
    "        os.makedirs('model/{}/model2'.format(date), exist_ok=True)\n",
    "    \n",
    "    for i in tqdm(range(len(quantiles))):\n",
    "        q = quantiles[i]\n",
    "        num1 = int(iters1[i]) ; num2 = int(iters2[i])\n",
    "        \n",
    "        model1 = LGBM(q, train_x, train_y1, num1)\n",
    "        joblib.dump(model1,'model/{}/model1/q{}'.format(date,str(q).replace('.','')))\n",
    "\n",
    "        model2 = LGBM(q, train_x, train_y2, num2)\n",
    "        joblib.dump(model2,'model/{}/model2/q{}'.format(date, str(q).replace('.','')))"
   ]
  },
  {
   "cell_type": "code",
   "execution_count": 150,
   "metadata": {},
   "outputs": [
    {
     "name": "stderr",
     "output_type": "stream",
     "text": [
      "100%|████████████████████████████████████████████████████████████████████████████████████| 9/9 [07:42<00:00, 51.35s/it]\n"
     ]
    }
   ],
   "source": [
    "iters1 = [3527.4, 5438.6, 9176.2, 10000. , 10000. , 9566.8, 9162.6, 8743.4, 4154. ]\n",
    "iters2 =  [5371.8, 7145. , 10000. , 10000. , 10000. , 10000. , 7026.8, 9011.4, 4676. ]\n",
    "train_alldata('0113',train_x, train_y1, train_y2, iters1, iters2)"
   ]
  },
  {
   "cell_type": "code",
   "execution_count": 155,
   "metadata": {},
   "outputs": [
    {
     "data": {
      "text/html": [
       "<div>\n",
       "<style scoped>\n",
       "    .dataframe tbody tr th:only-of-type {\n",
       "        vertical-align: middle;\n",
       "    }\n",
       "\n",
       "    .dataframe tbody tr th {\n",
       "        vertical-align: top;\n",
       "    }\n",
       "\n",
       "    .dataframe thead th {\n",
       "        text-align: right;\n",
       "    }\n",
       "</style>\n",
       "<table border=\"1\" class=\"dataframe\">\n",
       "  <thead>\n",
       "    <tr style=\"text-align: right;\">\n",
       "      <th></th>\n",
       "      <th>Hour</th>\n",
       "      <th>Minute</th>\n",
       "      <th>DHI_0</th>\n",
       "      <th>DNI_0</th>\n",
       "      <th>WS_0</th>\n",
       "      <th>T_0</th>\n",
       "      <th>TARGET_0</th>\n",
       "      <th>GHI_0</th>\n",
       "      <th>dew_0</th>\n",
       "      <th>sunny_0</th>\n",
       "      <th>...</th>\n",
       "      <th>temp_diff_6</th>\n",
       "      <th>delta_6</th>\n",
       "      <th>zenith_6</th>\n",
       "      <th>azi_6</th>\n",
       "      <th>TARGET_diff_0</th>\n",
       "      <th>TARGET_diff_1</th>\n",
       "      <th>TARGET_diff_2</th>\n",
       "      <th>TARGET_diff_3</th>\n",
       "      <th>TARGET_diff_4</th>\n",
       "      <th>TARGET_diff_5</th>\n",
       "    </tr>\n",
       "  </thead>\n",
       "  <tbody>\n",
       "    <tr>\n",
       "      <th>0</th>\n",
       "      <td>0</td>\n",
       "      <td>0</td>\n",
       "      <td>0</td>\n",
       "      <td>0</td>\n",
       "      <td>1.5</td>\n",
       "      <td>-12</td>\n",
       "      <td>0.0</td>\n",
       "      <td>0</td>\n",
       "      <td>-4.035806</td>\n",
       "      <td>8.5</td>\n",
       "      <td>...</td>\n",
       "      <td>9</td>\n",
       "      <td>-22.672581</td>\n",
       "      <td>166.672581</td>\n",
       "      <td>0.000000</td>\n",
       "      <td>0.0</td>\n",
       "      <td>0.0</td>\n",
       "      <td>0.0</td>\n",
       "      <td>0.0</td>\n",
       "      <td>0.0</td>\n",
       "      <td>0.0</td>\n",
       "    </tr>\n",
       "    <tr>\n",
       "      <th>1</th>\n",
       "      <td>0</td>\n",
       "      <td>30</td>\n",
       "      <td>0</td>\n",
       "      <td>0</td>\n",
       "      <td>1.5</td>\n",
       "      <td>-12</td>\n",
       "      <td>0.0</td>\n",
       "      <td>0</td>\n",
       "      <td>-4.039670</td>\n",
       "      <td>8.5</td>\n",
       "      <td>...</td>\n",
       "      <td>9</td>\n",
       "      <td>-22.672581</td>\n",
       "      <td>166.672581</td>\n",
       "      <td>0.000000</td>\n",
       "      <td>0.0</td>\n",
       "      <td>0.0</td>\n",
       "      <td>0.0</td>\n",
       "      <td>0.0</td>\n",
       "      <td>0.0</td>\n",
       "      <td>0.0</td>\n",
       "    </tr>\n",
       "    <tr>\n",
       "      <th>2</th>\n",
       "      <td>1</td>\n",
       "      <td>0</td>\n",
       "      <td>0</td>\n",
       "      <td>0</td>\n",
       "      <td>1.6</td>\n",
       "      <td>-12</td>\n",
       "      <td>0.0</td>\n",
       "      <td>0</td>\n",
       "      <td>-3.523105</td>\n",
       "      <td>8.5</td>\n",
       "      <td>...</td>\n",
       "      <td>9</td>\n",
       "      <td>-22.672581</td>\n",
       "      <td>161.375576</td>\n",
       "      <td>48.400354</td>\n",
       "      <td>0.0</td>\n",
       "      <td>0.0</td>\n",
       "      <td>0.0</td>\n",
       "      <td>0.0</td>\n",
       "      <td>0.0</td>\n",
       "      <td>0.0</td>\n",
       "    </tr>\n",
       "    <tr>\n",
       "      <th>3</th>\n",
       "      <td>1</td>\n",
       "      <td>30</td>\n",
       "      <td>0</td>\n",
       "      <td>0</td>\n",
       "      <td>1.6</td>\n",
       "      <td>-12</td>\n",
       "      <td>0.0</td>\n",
       "      <td>0</td>\n",
       "      <td>-3.528707</td>\n",
       "      <td>8.5</td>\n",
       "      <td>...</td>\n",
       "      <td>9</td>\n",
       "      <td>-22.672581</td>\n",
       "      <td>161.375576</td>\n",
       "      <td>48.400354</td>\n",
       "      <td>0.0</td>\n",
       "      <td>0.0</td>\n",
       "      <td>0.0</td>\n",
       "      <td>0.0</td>\n",
       "      <td>0.0</td>\n",
       "      <td>0.0</td>\n",
       "    </tr>\n",
       "    <tr>\n",
       "      <th>4</th>\n",
       "      <td>2</td>\n",
       "      <td>0</td>\n",
       "      <td>0</td>\n",
       "      <td>0</td>\n",
       "      <td>1.6</td>\n",
       "      <td>-12</td>\n",
       "      <td>0.0</td>\n",
       "      <td>0</td>\n",
       "      <td>-2.897725</td>\n",
       "      <td>8.5</td>\n",
       "      <td>...</td>\n",
       "      <td>9</td>\n",
       "      <td>-22.672581</td>\n",
       "      <td>150.815833</td>\n",
       "      <td>71.112247</td>\n",
       "      <td>0.0</td>\n",
       "      <td>0.0</td>\n",
       "      <td>0.0</td>\n",
       "      <td>0.0</td>\n",
       "      <td>0.0</td>\n",
       "      <td>0.0</td>\n",
       "    </tr>\n",
       "  </tbody>\n",
       "</table>\n",
       "<p>5 rows × 99 columns</p>\n",
       "</div>"
      ],
      "text/plain": [
       "   Hour  Minute  DHI_0  DNI_0  WS_0  T_0  TARGET_0  GHI_0     dew_0  sunny_0  \\\n",
       "0     0       0      0      0   1.5  -12       0.0      0 -4.035806      8.5   \n",
       "1     0      30      0      0   1.5  -12       0.0      0 -4.039670      8.5   \n",
       "2     1       0      0      0   1.6  -12       0.0      0 -3.523105      8.5   \n",
       "3     1      30      0      0   1.6  -12       0.0      0 -3.528707      8.5   \n",
       "4     2       0      0      0   1.6  -12       0.0      0 -2.897725      8.5   \n",
       "\n",
       "   ...  temp_diff_6    delta_6    zenith_6      azi_6  TARGET_diff_0  \\\n",
       "0  ...            9 -22.672581  166.672581   0.000000            0.0   \n",
       "1  ...            9 -22.672581  166.672581   0.000000            0.0   \n",
       "2  ...            9 -22.672581  161.375576  48.400354            0.0   \n",
       "3  ...            9 -22.672581  161.375576  48.400354            0.0   \n",
       "4  ...            9 -22.672581  150.815833  71.112247            0.0   \n",
       "\n",
       "   TARGET_diff_1  TARGET_diff_2  TARGET_diff_3  TARGET_diff_4  TARGET_diff_5  \n",
       "0            0.0            0.0            0.0            0.0            0.0  \n",
       "1            0.0            0.0            0.0            0.0            0.0  \n",
       "2            0.0            0.0            0.0            0.0            0.0  \n",
       "3            0.0            0.0            0.0            0.0            0.0  \n",
       "4            0.0            0.0            0.0            0.0            0.0  \n",
       "\n",
       "[5 rows x 99 columns]"
      ]
     },
     "execution_count": 155,
     "metadata": {},
     "output_type": "execute_result"
    }
   ],
   "source": [
    "train_x.head()"
   ]
  },
  {
   "cell_type": "markdown",
   "metadata": {},
   "source": [
    "#### Test data 및 submission 생성"
   ]
  },
  {
   "cell_type": "code",
   "execution_count": 158,
   "metadata": {},
   "outputs": [
    {
     "name": "stderr",
     "output_type": "stream",
     "text": [
      "100%|██████████████████████████████████████████████████████████████████████████████████| 81/81 [04:04<00:00,  3.02s/it]"
     ]
    },
    {
     "name": "stdout",
     "output_type": "stream",
     "text": [
      "(7776, 10)\n"
     ]
    },
    {
     "name": "stderr",
     "output_type": "stream",
     "text": [
      "\n"
     ]
    }
   ],
   "source": [
    "dfs = []\n",
    "for i in tqdm(range(81)):\n",
    "    path = 'test/{}.csv'.format(i)\n",
    "    df = pd.read_csv(path)\n",
    "    df1 = test_preprocess1(df)\n",
    "    df2 = test_preprocess2(df1)\n",
    "    \n",
    "    test_df = pd.DataFrame()\n",
    "    for day in range(7):\n",
    "        if day == 0:\n",
    "            day_df = df2[df2.Day == day].drop(['Day'],axis=1).reset_index(drop=True) \n",
    "            cols = ['Hour','Minute'] + ['{}_{}'.format(col,day) for col in list(df2.columns)[3:]]\n",
    "        else:\n",
    "            day_df = df2[df2.Day == day].drop(['Day','Hour','Minute'],axis=1).reset_index(drop=True) \n",
    "            cols = ['{}_{}'.format(col,day) for col in list(df2.columns)[3:]]\n",
    "        day_df.columns = cols\n",
    "        test_df = pd.concat([test_df,day_df],axis=1) \n",
    "        test_df.drop(['RH_{}'.format(day),'sunrise_{}'.format(day),'sunset_{}'.format(day)], axis=1, inplace=True)\n",
    "        \n",
    "    # TARGET_diff\n",
    "    for day in range(6):\n",
    "        test_df['TARGET_diff_{}'.format(day)] = test_df['TARGET_{}'.format(day+1)] - test_df['TARGET_{}'.format(day)]\n",
    "        \n",
    "    # scaler 적용\n",
    "#     scaled_test_df = scaler.transform(test_df)\n",
    "#     predict_result = test_predict(i,scaled_test_df,'0112') \n",
    "    \n",
    "    # scaler 미적용\n",
    "    predict_result = test_predict(i,test_df,'0113') \n",
    "    \n",
    "    dfs.append(predict_result)\n",
    "    \n",
    "sub = pd.concat(dfs,axis=0).reset_index(drop=True)\n",
    "print(sub.shape)"
   ]
  },
  {
   "cell_type": "code",
   "execution_count": 159,
   "metadata": {},
   "outputs": [],
   "source": [
    "sub.to_csv('submission/{}.csv'.format('0113') , index=False)"
   ]
  },
  {
   "cell_type": "code",
   "execution_count": 160,
   "metadata": {},
   "outputs": [
    {
     "data": {
      "text/html": [
       "<div>\n",
       "<style scoped>\n",
       "    .dataframe tbody tr th:only-of-type {\n",
       "        vertical-align: middle;\n",
       "    }\n",
       "\n",
       "    .dataframe tbody tr th {\n",
       "        vertical-align: top;\n",
       "    }\n",
       "\n",
       "    .dataframe thead th {\n",
       "        text-align: right;\n",
       "    }\n",
       "</style>\n",
       "<table border=\"1\" class=\"dataframe\">\n",
       "  <thead>\n",
       "    <tr style=\"text-align: right;\">\n",
       "      <th></th>\n",
       "      <th>Hour</th>\n",
       "      <th>Minute</th>\n",
       "      <th>DHI_0</th>\n",
       "      <th>DNI_0</th>\n",
       "      <th>WS_0</th>\n",
       "      <th>T_0</th>\n",
       "      <th>TARGET_0</th>\n",
       "      <th>GHI_0</th>\n",
       "      <th>dew_0</th>\n",
       "      <th>sunny_0</th>\n",
       "      <th>...</th>\n",
       "      <th>temp_diff_6</th>\n",
       "      <th>delta_6</th>\n",
       "      <th>zenith_6</th>\n",
       "      <th>azi_6</th>\n",
       "      <th>TARGET_diff_0</th>\n",
       "      <th>TARGET_diff_1</th>\n",
       "      <th>TARGET_diff_2</th>\n",
       "      <th>TARGET_diff_3</th>\n",
       "      <th>TARGET_diff_4</th>\n",
       "      <th>TARGET_diff_5</th>\n",
       "    </tr>\n",
       "  </thead>\n",
       "  <tbody>\n",
       "    <tr>\n",
       "      <th>0</th>\n",
       "      <td>0</td>\n",
       "      <td>0</td>\n",
       "      <td>0</td>\n",
       "      <td>0</td>\n",
       "      <td>2.1</td>\n",
       "      <td>3.9</td>\n",
       "      <td>0.0</td>\n",
       "      <td>0</td>\n",
       "      <td>-1.620077</td>\n",
       "      <td>14.0</td>\n",
       "      <td>...</td>\n",
       "      <td>15.9</td>\n",
       "      <td>22.231059</td>\n",
       "      <td>121.768941</td>\n",
       "      <td>0.0</td>\n",
       "      <td>0.0</td>\n",
       "      <td>0.0</td>\n",
       "      <td>0.0</td>\n",
       "      <td>0.0</td>\n",
       "      <td>0.0</td>\n",
       "      <td>0.0</td>\n",
       "    </tr>\n",
       "  </tbody>\n",
       "</table>\n",
       "<p>1 rows × 99 columns</p>\n",
       "</div>"
      ],
      "text/plain": [
       "   Hour  Minute  DHI_0  DNI_0  WS_0  T_0  TARGET_0  GHI_0     dew_0  sunny_0  \\\n",
       "0     0       0      0      0   2.1  3.9       0.0      0 -1.620077     14.0   \n",
       "\n",
       "   ...  temp_diff_6    delta_6    zenith_6  azi_6  TARGET_diff_0  \\\n",
       "0  ...         15.9  22.231059  121.768941    0.0            0.0   \n",
       "\n",
       "   TARGET_diff_1  TARGET_diff_2  TARGET_diff_3  TARGET_diff_4  TARGET_diff_5  \n",
       "0            0.0            0.0            0.0            0.0            0.0  \n",
       "\n",
       "[1 rows x 99 columns]"
      ]
     },
     "execution_count": 160,
     "metadata": {},
     "output_type": "execute_result"
    }
   ],
   "source": [
    "test_df.head(1)"
   ]
  },
  {
   "cell_type": "code",
   "execution_count": null,
   "metadata": {},
   "outputs": [],
   "source": []
  }
 ],
 "metadata": {
  "kernelspec": {
   "display_name": "Python 3",
   "language": "python",
   "name": "python3"
  },
  "language_info": {
   "codemirror_mode": {
    "name": "ipython",
    "version": 3
   },
   "file_extension": ".py",
   "mimetype": "text/x-python",
   "name": "python",
   "nbconvert_exporter": "python",
   "pygments_lexer": "ipython3",
   "version": "3.6.8"
  }
 },
 "nbformat": 4,
 "nbformat_minor": 4
}
